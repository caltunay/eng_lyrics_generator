{
  "nbformat": 4,
  "nbformat_minor": 0,
  "metadata": {
    "colab": {
      "name": "Indie Song Generator.ipynb",
      "provenance": [],
      "collapsed_sections": [],
      "mount_file_id": "1APcGxBUITKxq3So-LoqFVvq1ky8b10Jx",
      "authorship_tag": "ABX9TyM2XsCQozjg4TwR8uEMXePb",
      "include_colab_link": true
    },
    "kernelspec": {
      "name": "python3",
      "display_name": "Python 3"
    },
    "accelerator": "GPU"
  },
  "cells": [
    {
      "cell_type": "markdown",
      "metadata": {
        "id": "view-in-github",
        "colab_type": "text"
      },
      "source": [
        "<a href=\"https://colab.research.google.com/github/caltunay/eng_lyrics_generator/blob/main/Indie_Song_Generator.ipynb\" target=\"_parent\"><img src=\"https://colab.research.google.com/assets/colab-badge.svg\" alt=\"Open In Colab\"/></a>"
      ]
    },
    {
      "cell_type": "code",
      "metadata": {
        "id": "3oZ6yLfUK5vE"
      },
      "source": [
        "import pandas as pd\r\n",
        "import requests\r\n",
        "import string\r\n",
        "import tensorflow as tf\r\n",
        "import numpy as np\r\n",
        "from tensorflow.keras.preprocessing.text import Tokenizer\r\n",
        "from tensorflow.keras.utils import to_categorical\r\n",
        "from tensorflow.keras.models import Sequential\r\n",
        "from tensorflow.keras.layers import Dense, LSTM, Embedding, Dropout\r\n",
        "from tensorflow.keras.preprocessing.sequence import pad_sequences\r\n",
        "from tensorflow.keras.models import load_model\r\n",
        "import sys\r\n",
        "from tensorflow.keras.callbacks import LambdaCallback, EarlyStopping, ModelCheckpoint\r\n",
        "from tensorflow.compat.v1.keras.layers import CuDNNLSTM"
      ],
      "execution_count": null,
      "outputs": []
    },
    {
      "cell_type": "code",
      "metadata": {
        "id": "W8HOZ0esIORU"
      },
      "source": [
        "kaggle_oath = {\"username\":\"\",\"key\":\"\"}"
      ],
      "execution_count": null,
      "outputs": []
    },
    {
      "cell_type": "code",
      "metadata": {
        "colab": {
          "base_uri": "https://localhost:8080/"
        },
        "id": "ungIlDyvIOQn",
        "outputId": "fcac9523-fcb7-40e6-d410-46101d634feb"
      },
      "source": [
        "import os\r\n",
        "os.environ['KAGGLE_USERNAME'] = kaggle_oath['username'] # username from the json file \r\n",
        "os.environ['KAGGLE_KEY'] = kaggle_oath['key'] # key from the json file\r\n",
        "\r\n",
        "!kaggle datasets download -d mateibejan/multilingual-lyrics-for-genre-classification"
      ],
      "execution_count": null,
      "outputs": [
        {
          "output_type": "stream",
          "text": [
            "Downloading multilingual-lyrics-for-genre-classification.zip to /content\n",
            " 84% 86.0M/103M [00:01<00:00, 47.0MB/s]\n",
            "100% 103M/103M [00:01<00:00, 96.3MB/s] \n"
          ],
          "name": "stdout"
        }
      ]
    },
    {
      "cell_type": "code",
      "metadata": {
        "colab": {
          "base_uri": "https://localhost:8080/"
        },
        "id": "bgPT67znIOSB",
        "outputId": "82d88e1c-8758-447a-9fdb-a0a840b1f176"
      },
      "source": [
        "!unzip multilingual-lyrics-for-genre-classification.zip"
      ],
      "execution_count": null,
      "outputs": [
        {
          "output_type": "stream",
          "text": [
            "Archive:  multilingual-lyrics-for-genre-classification.zip\n",
            "  inflating: test.csv                \n",
            "  inflating: train.csv               \n"
          ],
          "name": "stdout"
        }
      ]
    },
    {
      "cell_type": "code",
      "metadata": {
        "id": "n4yAoVq4IOTd"
      },
      "source": [
        "songs = pd.read_csv('train.csv')"
      ],
      "execution_count": null,
      "outputs": []
    },
    {
      "cell_type": "code",
      "metadata": {
        "colab": {
          "base_uri": "https://localhost:8080/",
          "height": 204
        },
        "id": "baDFsO9vIOUL",
        "outputId": "0eea8064-f600-4477-d6bb-5ce7b3ce5060"
      },
      "source": [
        "songs.sample(5)"
      ],
      "execution_count": null,
      "outputs": [
        {
          "output_type": "execute_result",
          "data": {
            "text/html": [
              "<div>\n",
              "<style scoped>\n",
              "    .dataframe tbody tr th:only-of-type {\n",
              "        vertical-align: middle;\n",
              "    }\n",
              "\n",
              "    .dataframe tbody tr th {\n",
              "        vertical-align: top;\n",
              "    }\n",
              "\n",
              "    .dataframe thead th {\n",
              "        text-align: right;\n",
              "    }\n",
              "</style>\n",
              "<table border=\"1\" class=\"dataframe\">\n",
              "  <thead>\n",
              "    <tr style=\"text-align: right;\">\n",
              "      <th></th>\n",
              "      <th>Artist</th>\n",
              "      <th>Song</th>\n",
              "      <th>Genre</th>\n",
              "      <th>Language</th>\n",
              "      <th>Lyrics</th>\n",
              "    </tr>\n",
              "  </thead>\n",
              "  <tbody>\n",
              "    <tr>\n",
              "      <th>267235</th>\n",
              "      <td>benji &amp; fede</td>\n",
              "      <td>safari</td>\n",
              "      <td>Pop</td>\n",
              "      <td>it</td>\n",
              "      <td>siamo nati in posti complicati\\nil tempo perso...</td>\n",
              "    </tr>\n",
              "    <tr>\n",
              "      <th>176439</th>\n",
              "      <td>archive</td>\n",
              "      <td>woman</td>\n",
              "      <td>Pop</td>\n",
              "      <td>en</td>\n",
              "      <td>I'm a woman\\nYou're a man\\nWas I put here for ...</td>\n",
              "    </tr>\n",
              "    <tr>\n",
              "      <th>104539</th>\n",
              "      <td>guilherme arantes</td>\n",
              "      <td>lendas</td>\n",
              "      <td>Pop</td>\n",
              "      <td>pt</td>\n",
              "      <td>Lendas\\nVejo quantas lendas querem me prender\\...</td>\n",
              "    </tr>\n",
              "    <tr>\n",
              "      <th>175505</th>\n",
              "      <td>carl perkins</td>\n",
              "      <td>boppin' the blues</td>\n",
              "      <td>Rock</td>\n",
              "      <td>en</td>\n",
              "      <td>Well all my friends are bopping the blues it m...</td>\n",
              "    </tr>\n",
              "    <tr>\n",
              "      <th>11882</th>\n",
              "      <td>cobra starship</td>\n",
              "      <td>anything for love</td>\n",
              "      <td>Pop</td>\n",
              "      <td>en</td>\n",
              "      <td>Tell my friends I'm done, I'm not comin' back\\...</td>\n",
              "    </tr>\n",
              "  </tbody>\n",
              "</table>\n",
              "</div>"
            ],
            "text/plain": [
              "                   Artist  ...                                             Lyrics\n",
              "267235       benji & fede  ...  siamo nati in posti complicati\\nil tempo perso...\n",
              "176439            archive  ...  I'm a woman\\nYou're a man\\nWas I put here for ...\n",
              "104539  guilherme arantes  ...  Lendas\\nVejo quantas lendas querem me prender\\...\n",
              "175505       carl perkins  ...  Well all my friends are bopping the blues it m...\n",
              "11882      cobra starship  ...  Tell my friends I'm done, I'm not comin' back\\...\n",
              "\n",
              "[5 rows x 5 columns]"
            ]
          },
          "metadata": {
            "tags": []
          },
          "execution_count": 18
        }
      ]
    },
    {
      "cell_type": "code",
      "metadata": {
        "colab": {
          "base_uri": "https://localhost:8080/"
        },
        "id": "WCXtcfjI7gFU",
        "outputId": "2316d9a6-c7a2-4ad4-97a1-89f8d3b5c23e"
      },
      "source": [
        "songs.groupby('Language').size()"
      ],
      "execution_count": null,
      "outputs": [
        {
          "output_type": "execute_result",
          "data": {
            "text/plain": [
              "Language\n",
              "af        77\n",
              "ca       137\n",
              "cs        17\n",
              "cy       226\n",
              "da        71\n",
              "de       478\n",
              "en    250197\n",
              "es      3892\n",
              "et        58\n",
              "fi        54\n",
              "fr       644\n",
              "hr        97\n",
              "hu        10\n",
              "id       737\n",
              "it       808\n",
              "ko         1\n",
              "lt         2\n",
              "lv         2\n",
              "nl       116\n",
              "no        93\n",
              "pl        24\n",
              "pt     30102\n",
              "ro      1184\n",
              "ru         4\n",
              "sk        98\n",
              "sl        77\n",
              "so       229\n",
              "sq        15\n",
              "sv        61\n",
              "sw       304\n",
              "tl       241\n",
              "tr       116\n",
              "vi         7\n",
              "dtype: int64"
            ]
          },
          "metadata": {
            "tags": []
          },
          "execution_count": 14
        }
      ]
    },
    {
      "cell_type": "code",
      "metadata": {
        "colab": {
          "base_uri": "https://localhost:8080/",
          "height": 419
        },
        "id": "79iCIgKZ7gHj",
        "outputId": "517af285-3505-4bf8-f062-006a422dffe5"
      },
      "source": [
        "songs[songs['Language'] == 'tr']"
      ],
      "execution_count": null,
      "outputs": [
        {
          "output_type": "execute_result",
          "data": {
            "text/html": [
              "<div>\n",
              "<style scoped>\n",
              "    .dataframe tbody tr th:only-of-type {\n",
              "        vertical-align: middle;\n",
              "    }\n",
              "\n",
              "    .dataframe tbody tr th {\n",
              "        vertical-align: top;\n",
              "    }\n",
              "\n",
              "    .dataframe thead th {\n",
              "        text-align: right;\n",
              "    }\n",
              "</style>\n",
              "<table border=\"1\" class=\"dataframe\">\n",
              "  <thead>\n",
              "    <tr style=\"text-align: right;\">\n",
              "      <th></th>\n",
              "      <th>Artist</th>\n",
              "      <th>Song</th>\n",
              "      <th>Genre</th>\n",
              "      <th>Language</th>\n",
              "      <th>Lyrics</th>\n",
              "    </tr>\n",
              "  </thead>\n",
              "  <tbody>\n",
              "    <tr>\n",
              "      <th>45676</th>\n",
              "      <td>queen</td>\n",
              "      <td>yeah</td>\n",
              "      <td>Rock</td>\n",
              "      <td>tr</td>\n",
              "      <td>Yeah</td>\n",
              "    </tr>\n",
              "    <tr>\n",
              "      <th>89147</th>\n",
              "      <td>timbaland</td>\n",
              "      <td>break ya back (feat. dev)</td>\n",
              "      <td>Pop</td>\n",
              "      <td>tr</td>\n",
              "      <td>Who that?\\nBreak ya back, I'm tryna break ya b...</td>\n",
              "    </tr>\n",
              "    <tr>\n",
              "      <th>100612</th>\n",
              "      <td>dima bilan</td>\n",
              "      <td>tak, tak ne byvaet</td>\n",
              "      <td>Pop</td>\n",
              "      <td>tr</td>\n",
              "      <td>Kazhdyy ras, kogda\\nty podnimayesh glaza\\nEto ...</td>\n",
              "    </tr>\n",
              "    <tr>\n",
              "      <th>121419</th>\n",
              "      <td>t a t u</td>\n",
              "      <td>beliy plashik</td>\n",
              "      <td>Rock</td>\n",
              "      <td>tr</td>\n",
              "      <td>Beliy Plashik\\nYa risuyu chyernoy kraskoy,\\nNa...</td>\n",
              "    </tr>\n",
              "    <tr>\n",
              "      <th>121447</th>\n",
              "      <td>t a t u</td>\n",
              "      <td>malchik gey</td>\n",
              "      <td>Rock</td>\n",
              "      <td>tr</td>\n",
              "      <td>Mal'chik Gey, Mal'chik Gey, Mal'chik Gey\\nMal'...</td>\n",
              "    </tr>\n",
              "    <tr>\n",
              "      <th>...</th>\n",
              "      <td>...</td>\n",
              "      <td>...</td>\n",
              "      <td>...</td>\n",
              "      <td>...</td>\n",
              "      <td>...</td>\n",
              "    </tr>\n",
              "    <tr>\n",
              "      <th>271084</th>\n",
              "      <td>allame</td>\n",
              "      <td>microfon utanir</td>\n",
              "      <td>Pop</td>\n",
              "      <td>tr</td>\n",
              "      <td>yuzumden dusen kac bin parca kelime deryasi\\nl...</td>\n",
              "    </tr>\n",
              "    <tr>\n",
              "      <th>271085</th>\n",
              "      <td>allame</td>\n",
              "      <td>hari</td>\n",
              "      <td>Pop</td>\n",
              "      <td>tr</td>\n",
              "      <td>ye hari\\npapagan otme bana\\nbu dusman gotman\\n...</td>\n",
              "    </tr>\n",
              "    <tr>\n",
              "      <th>271244</th>\n",
              "      <td>aspova</td>\n",
              "      <td>geber pislik</td>\n",
              "      <td>Pop</td>\n",
              "      <td>tr</td>\n",
              "      <td>\"belki baska bi' yolu vardir.\" dedim\\nbulamadi...</td>\n",
              "    </tr>\n",
              "    <tr>\n",
              "      <th>271245</th>\n",
              "      <td>aspova</td>\n",
              "      <td>ne kaldi</td>\n",
              "      <td>Pop</td>\n",
              "      <td>tr</td>\n",
              "      <td>ne kaldi geriye benden la dondum deliye\\ncok z...</td>\n",
              "    </tr>\n",
              "    <tr>\n",
              "      <th>271246</th>\n",
              "      <td>aspova</td>\n",
              "      <td>lanet olsun</td>\n",
              "      <td>Pop</td>\n",
              "      <td>tr</td>\n",
              "      <td>\\nbu semt benimle neyi alip veremedi?\\nbu kent...</td>\n",
              "    </tr>\n",
              "  </tbody>\n",
              "</table>\n",
              "<p>116 rows × 5 columns</p>\n",
              "</div>"
            ],
            "text/plain": [
              "            Artist  ...                                             Lyrics\n",
              "45676        queen  ...                                               Yeah\n",
              "89147    timbaland  ...  Who that?\\nBreak ya back, I'm tryna break ya b...\n",
              "100612  dima bilan  ...  Kazhdyy ras, kogda\\nty podnimayesh glaza\\nEto ...\n",
              "121419     t a t u  ...  Beliy Plashik\\nYa risuyu chyernoy kraskoy,\\nNa...\n",
              "121447     t a t u  ...  Mal'chik Gey, Mal'chik Gey, Mal'chik Gey\\nMal'...\n",
              "...            ...  ...                                                ...\n",
              "271084      allame  ...  yuzumden dusen kac bin parca kelime deryasi\\nl...\n",
              "271085      allame  ...  ye hari\\npapagan otme bana\\nbu dusman gotman\\n...\n",
              "271244      aspova  ...  \"belki baska bi' yolu vardir.\" dedim\\nbulamadi...\n",
              "271245      aspova  ...  ne kaldi geriye benden la dondum deliye\\ncok z...\n",
              "271246      aspova  ...  \\nbu semt benimle neyi alip veremedi?\\nbu kent...\n",
              "\n",
              "[116 rows x 5 columns]"
            ]
          },
          "metadata": {
            "tags": []
          },
          "execution_count": 15
        }
      ]
    },
    {
      "cell_type": "code",
      "metadata": {
        "id": "N7gENqNf8YhC"
      },
      "source": [
        "rand_inds = np.random.randint(0, len(songs)-1, 10)\r\n",
        "\r\n",
        "for i in rand_inds:\r\n",
        "    print(songs['Lyrics'][i])\r\n",
        "    print('////////////////////')\r\n"
      ],
      "execution_count": null,
      "outputs": []
    },
    {
      "cell_type": "code",
      "metadata": {
        "colab": {
          "base_uri": "https://localhost:8080/"
        },
        "id": "zl6BNTMd8uAX",
        "outputId": "678fc9eb-028d-46ea-d009-9f33c7be9753"
      },
      "source": [
        "songs[songs['Language']=='en'].groupby('Genre').size()"
      ],
      "execution_count": null,
      "outputs": [
        {
          "output_type": "execute_result",
          "data": {
            "text/plain": [
              "Genre\n",
              "Country         1890\n",
              "Electronic      2005\n",
              "Folk            8169\n",
              "Hip-Hop         2238\n",
              "Indie           7240\n",
              "Jazz           13314\n",
              "Metal          19133\n",
              "Pop            86298\n",
              "R&B             2765\n",
              "Rock          107145\n",
              "dtype: int64"
            ]
          },
          "metadata": {
            "tags": []
          },
          "execution_count": 28
        }
      ]
    },
    {
      "cell_type": "code",
      "metadata": {
        "id": "dXEO4EIvSA3K"
      },
      "source": [
        "songs['lengths'] = songs['Lyrics'].apply(lambda x:len(str(x)))"
      ],
      "execution_count": null,
      "outputs": []
    },
    {
      "cell_type": "code",
      "metadata": {
        "id": "CmBNW3Go8te-"
      },
      "source": [
        "indie_lyrics = songs[(songs['Language']=='en')&(songs['Genre']=='Indie')&(songs['lengths']>35)].drop_duplicates()['Lyrics']"
      ],
      "execution_count": null,
      "outputs": []
    },
    {
      "cell_type": "code",
      "metadata": {
        "id": "aCGVkDhl8thO"
      },
      "source": [
        "indie_lyrics = indie_lyrics.reset_index(drop = True)"
      ],
      "execution_count": null,
      "outputs": []
    },
    {
      "cell_type": "code",
      "metadata": {
        "id": "KCtaQBCgErNg"
      },
      "source": [
        "indie_lyrics = indie_lyrics.str.lower()"
      ],
      "execution_count": null,
      "outputs": []
    },
    {
      "cell_type": "code",
      "metadata": {
        "colab": {
          "base_uri": "https://localhost:8080/"
        },
        "id": "zlQaKYEECVGn",
        "outputId": "d48e10ad-d397-485b-ea85-31b3b52e4995"
      },
      "source": [
        "# vocab and char-ind dicts\r\n",
        "sorted(set(' '.join(indie_lyrics)))"
      ],
      "execution_count": null,
      "outputs": [
        {
          "output_type": "execute_result",
          "data": {
            "text/plain": [
              "['\\t',\n",
              " '\\n',\n",
              " ' ',\n",
              " '!',\n",
              " '\"',\n",
              " '#',\n",
              " '$',\n",
              " '%',\n",
              " '&',\n",
              " \"'\",\n",
              " '(',\n",
              " ')',\n",
              " '*',\n",
              " '+',\n",
              " ',',\n",
              " '-',\n",
              " '.',\n",
              " '/',\n",
              " '0',\n",
              " '1',\n",
              " '2',\n",
              " '3',\n",
              " '4',\n",
              " '5',\n",
              " '6',\n",
              " '7',\n",
              " '8',\n",
              " '9',\n",
              " ':',\n",
              " ';',\n",
              " '=',\n",
              " '>',\n",
              " '?',\n",
              " '@',\n",
              " '[',\n",
              " '\\\\',\n",
              " ']',\n",
              " '^',\n",
              " '_',\n",
              " '`',\n",
              " 'a',\n",
              " 'b',\n",
              " 'c',\n",
              " 'd',\n",
              " 'e',\n",
              " 'f',\n",
              " 'g',\n",
              " 'h',\n",
              " 'i',\n",
              " 'j',\n",
              " 'k',\n",
              " 'l',\n",
              " 'm',\n",
              " 'n',\n",
              " 'o',\n",
              " 'p',\n",
              " 'q',\n",
              " 'r',\n",
              " 's',\n",
              " 't',\n",
              " 'u',\n",
              " 'v',\n",
              " 'w',\n",
              " 'x',\n",
              " 'y',\n",
              " 'z',\n",
              " '{',\n",
              " '|',\n",
              " '}',\n",
              " '~',\n",
              " '\\x83',\n",
              " '\\x85',\n",
              " '\\x91',\n",
              " '\\x92',\n",
              " '\\x93',\n",
              " '\\x9f',\n",
              " '\\xa0',\n",
              " '¢',\n",
              " '¤',\n",
              " '¦',\n",
              " '©',\n",
              " 'ª',\n",
              " '\\xad',\n",
              " '®',\n",
              " '¯',\n",
              " '±',\n",
              " '´',\n",
              " '¹',\n",
              " '»',\n",
              " '½',\n",
              " '¿',\n",
              " 'à',\n",
              " 'á',\n",
              " 'â',\n",
              " 'ã',\n",
              " 'ä',\n",
              " 'ç',\n",
              " 'é',\n",
              " 'ê',\n",
              " 'í',\n",
              " 'ï',\n",
              " 'ó',\n",
              " 'ô',\n",
              " '–',\n",
              " '—',\n",
              " '‘',\n",
              " '’',\n",
              " '“',\n",
              " '”',\n",
              " '…']"
            ]
          },
          "metadata": {
            "tags": []
          },
          "execution_count": 29
        }
      ]
    },
    {
      "cell_type": "code",
      "metadata": {
        "id": "ic_bc0c6CVI8"
      },
      "source": [
        "search_for = ['\\t',\r\n",
        " '\\#',\r\n",
        " '\\$',\r\n",
        " '\\%',\r\n",
        " '\\&',\r\n",
        "  '\\_',\r\n",
        " '\\`',\r\n",
        " '\\|'\r\n",
        "#  \"\\'\",\r\n",
        " '\\(',\r\n",
        " '\\(',\r\n",
        " '\\)',\r\n",
        " '\\*',\r\n",
        " '\\+',\r\n",
        " '\\/',\r\n",
        " '\\=',\r\n",
        " '\\>',\r\n",
        "#  '\\?',\r\n",
        " '\\@',\r\n",
        " '\\[',\r\n",
        " \"\\\\\",\r\n",
        " '\\]',  \r\n",
        " '\\^',       \r\n",
        " '\\{',\r\n",
        " '\\}',\r\n",
        " '\\~',\r\n",
        " '\\x83',\r\n",
        " '\\x85',\r\n",
        " '\\x91',\r\n",
        " '\\x92',\r\n",
        " '\\x93',\r\n",
        " '\\x9f',\r\n",
        " '\\xa0',\r\n",
        " '\\¢',\r\n",
        " '\\¤',\r\n",
        " '\\¦',\r\n",
        " '\\©',\r\n",
        " '\\ª',\r\n",
        " '\\xad',\r\n",
        " '\\®',\r\n",
        " '\\¯',\r\n",
        " '\\±',\r\n",
        " '\\´',\r\n",
        " '\\¹',\r\n",
        " '\\»',\r\n",
        " '\\½',\r\n",
        " '\\¿',\r\n",
        " '\\à',\r\n",
        " '\\á',\r\n",
        " '\\â',\r\n",
        " '\\ã',\r\n",
        " '\\ä',\r\n",
        " '\\ç',\r\n",
        " '\\é',\r\n",
        " '\\ê',\r\n",
        " '\\í',\r\n",
        " '\\ï',\r\n",
        " '\\ó',\r\n",
        " '\\ô',\r\n",
        " '\\[',\r\n",
        " '\\]']\r\n",
        "#  '‘',\r\n",
        "#  '’',\r\n",
        "#  '“',\r\n",
        "#  '”']"
      ],
      "execution_count": null,
      "outputs": []
    },
    {
      "cell_type": "code",
      "metadata": {
        "colab": {
          "base_uri": "https://localhost:8080/",
          "height": 52
        },
        "id": "sfCUdIHoIJM2",
        "outputId": "d9a3a6eb-a3df-4221-b8a6-af150e23e5ca"
      },
      "source": [
        "'|'.join(search_for)"
      ],
      "execution_count": null,
      "outputs": [
        {
          "output_type": "execute_result",
          "data": {
            "application/vnd.google.colaboratory.intrinsic+json": {
              "type": "string"
            },
            "text/plain": [
              "'\\t|\\\\#|\\\\$|\\\\%|\\\\&|\\\\_|\\\\`|\\\\|\\\\(|\\\\(|\\\\)|\\\\*|\\\\+|\\\\/|\\\\=|\\\\>|\\\\@|\\\\[|\\\\|\\\\]|\\\\^|\\\\{|\\\\}|\\\\~|\\x83|\\x85|\\x91|\\x92|\\x93|\\x9f|\\xa0|\\\\¢|\\\\¤|\\\\¦|\\\\©|\\\\ª|\\xad|\\\\®|\\\\¯|\\\\±|\\\\´|\\\\¹|\\\\»|\\\\½|\\\\¿|\\\\à|\\\\á|\\\\â|\\\\ã|\\\\ä|\\\\ç|\\\\é|\\\\ê|\\\\í|\\\\ï|\\\\ó|\\\\ô|\\\\[|\\\\]'"
            ]
          },
          "metadata": {
            "tags": []
          },
          "execution_count": 24
        }
      ]
    },
    {
      "cell_type": "code",
      "metadata": {
        "id": "RwV_Cg2JGAxm"
      },
      "source": [
        "indie_lyrics = indie_lyrics[~indie_lyrics.str.contains('|'.join(search_for))]"
      ],
      "execution_count": null,
      "outputs": []
    },
    {
      "cell_type": "code",
      "metadata": {
        "colab": {
          "base_uri": "https://localhost:8080/"
        },
        "id": "Do3O1LCFJDZV",
        "outputId": "fa2b2f2f-2b7b-49d2-abbe-6d8969d0d98b"
      },
      "source": [
        "indie_lyrics"
      ],
      "execution_count": null,
      "outputs": [
        {
          "output_type": "execute_result",
          "data": {
            "text/plain": [
              "0       leave now while you can\\n'cause growing old ju...\n",
              "2       the needle's in hand,\\nbut i cannot sew.\\nmy h...\n",
              "3       i catch every whisper\\nsurrounding your head\\n...\n",
              "4       get off of work, come home,\\npass out.\\nmy lif...\n",
              "5       you tried but you lost\\nand your ship sank jus...\n",
              "                              ...                        \n",
              "6825    the sun burns down leaving god's bright stamp ...\n",
              "6827    i thought they were kissing, but they were bit...\n",
              "6829    i should have seen you were coming, i should h...\n",
              "6830    mary, you would not be the woman that you are ...\n",
              "6832    the day they found a cure for aids the day the...\n",
              "Name: Lyrics, Length: 5502, dtype: object"
            ]
          },
          "metadata": {
            "tags": []
          },
          "execution_count": 26
        }
      ]
    },
    {
      "cell_type": "code",
      "metadata": {
        "id": "IrIz3JkkHefZ"
      },
      "source": [
        "indie_lyrics = indie_lyrics.reset_index(drop = True)"
      ],
      "execution_count": null,
      "outputs": []
    },
    {
      "cell_type": "code",
      "metadata": {
        "id": "Fr19OSrcMNOs"
      },
      "source": [
        "indie_lyrics_sampled = indie_lyrics.sample(int(np.ceil(len(indie_lyrics)/5)))"
      ],
      "execution_count": null,
      "outputs": []
    },
    {
      "cell_type": "code",
      "metadata": {
        "colab": {
          "base_uri": "https://localhost:8080/"
        },
        "id": "0JE4OfLJM9fP",
        "outputId": "8512a7b0-714d-4307-fa55-60b90eace422"
      },
      "source": [
        "indie_lyrics_sampled = indie_lyrics_sampled.reset_index(drop = True)\r\n",
        "indie_lyrics_sampled"
      ],
      "execution_count": null,
      "outputs": [
        {
          "output_type": "execute_result",
          "data": {
            "text/plain": [
              "0       i wanna get stupid\\ni gotta get limb\\ni wanna ...\n",
              "1       it's not too early for whiskey\\nit's not too e...\n",
              "2       i go on forever\\nolder burns are overturned\\nm...\n",
              "3       with your coat of many colours\\nand the flower...\n",
              "4       we fell in love this summer\\nby the spring tim...\n",
              "                              ...                        \n",
              "1096    we bury ourselves in our bottles\\nbury ourselv...\n",
              "1097    two island swans mated for life, \\nand his fai...\n",
              "1098    look who's talking to their shadow like one wh...\n",
              "1099    \\ntai toi she says\\ntai toi she says\\nso its l...\n",
              "1100    i'm sick of has beens\\ncoming home\\ni'm coming...\n",
              "Name: Lyrics, Length: 1101, dtype: object"
            ]
          },
          "metadata": {
            "tags": []
          },
          "execution_count": 29
        }
      ]
    },
    {
      "cell_type": "code",
      "metadata": {
        "id": "JmrFBr1BGA1u"
      },
      "source": [
        "vocab = sorted(set(' '.join(indie_lyrics_sampled)))"
      ],
      "execution_count": null,
      "outputs": []
    },
    {
      "cell_type": "code",
      "metadata": {
        "colab": {
          "base_uri": "https://localhost:8080/"
        },
        "id": "l4gwkwSdSc7V",
        "outputId": "6bbec3a1-37fe-4757-a567-febe9fd37736"
      },
      "source": [
        "vocab"
      ],
      "execution_count": null,
      "outputs": [
        {
          "output_type": "execute_result",
          "data": {
            "text/plain": [
              "['\\n',\n",
              " ' ',\n",
              " '!',\n",
              " '\"',\n",
              " \"'\",\n",
              " ',',\n",
              " '-',\n",
              " '.',\n",
              " '0',\n",
              " '1',\n",
              " '2',\n",
              " '3',\n",
              " '4',\n",
              " '5',\n",
              " '6',\n",
              " '7',\n",
              " '8',\n",
              " '9',\n",
              " ':',\n",
              " ';',\n",
              " '?',\n",
              " 'a',\n",
              " 'b',\n",
              " 'c',\n",
              " 'd',\n",
              " 'e',\n",
              " 'f',\n",
              " 'g',\n",
              " 'h',\n",
              " 'i',\n",
              " 'j',\n",
              " 'k',\n",
              " 'l',\n",
              " 'm',\n",
              " 'n',\n",
              " 'o',\n",
              " 'p',\n",
              " 'q',\n",
              " 'r',\n",
              " 's',\n",
              " 't',\n",
              " 'u',\n",
              " 'v',\n",
              " 'w',\n",
              " 'x',\n",
              " 'y',\n",
              " 'z',\n",
              " '‘',\n",
              " '’',\n",
              " '“',\n",
              " '”',\n",
              " '…']"
            ]
          },
          "metadata": {
            "tags": []
          },
          "execution_count": 31
        }
      ]
    },
    {
      "cell_type": "code",
      "metadata": {
        "id": "jy9olyoHE-vI"
      },
      "source": [
        "# char-ind dicts\r\n",
        "\r\n",
        "char_to_ind = {char:ind for ind, char in enumerate(vocab)}\r\n",
        "ind_to_char = {ind:char for ind, char in enumerate(vocab)}"
      ],
      "execution_count": null,
      "outputs": []
    },
    {
      "cell_type": "code",
      "metadata": {
        "id": "ewNTe-xX8tjS"
      },
      "source": [
        "max_len = 30\r\n",
        "input_list = []\r\n",
        "target_list = []\r\n",
        "\r\n",
        "for song in indie_lyrics_sampled:\r\n",
        "    for char_ind in range(0, len(song) - max_len):\r\n",
        "        input_list.append(song[char_ind : char_ind + max_len])\r\n",
        "        target_list.append(song[char_ind + max_len])\r\n"
      ],
      "execution_count": null,
      "outputs": []
    },
    {
      "cell_type": "code",
      "metadata": {
        "colab": {
          "base_uri": "https://localhost:8080/"
        },
        "id": "fAEg0BM2E-y9",
        "outputId": "5da8b346-8590-4ece-9f43-8db2486c1be2"
      },
      "source": [
        "print(len(input_list), len(target_list))"
      ],
      "execution_count": null,
      "outputs": [
        {
          "output_type": "stream",
          "text": [
            "1016982 1016982\n"
          ],
          "name": "stdout"
        }
      ]
    },
    {
      "cell_type": "code",
      "metadata": {
        "id": "8wjCKe9dMNQ3"
      },
      "source": [
        "x_arr = np.zeros((len(input_list), max_len, len(vocab) ), dtype = 'float32')\r\n",
        "y_arr = np.zeros((len(target_list), len(vocab)), dtype = 'float32')\r\n",
        "\r\n",
        "\r\n",
        "for ind_song, song in enumerate(input_list):\r\n",
        "    for ind_char, char in enumerate(song):\r\n",
        "        x_arr[ind_song, ind_char, char_to_ind[char]] = 1\r\n",
        "    y_arr[ind_song , char_to_ind[target_list[ind_song]]] = 1"
      ],
      "execution_count": null,
      "outputs": []
    },
    {
      "cell_type": "code",
      "metadata": {
        "id": "IlDobvgoTGR8"
      },
      "source": [
        "# create baseline model\r\n",
        "from tensorflow.keras.layers import LSTM, Dense, Dropout\r\n",
        "from tensorflow.keras.models import Sequential\r\n",
        "import sys\r\n",
        "from tensorflow.keras.callbacks import LambdaCallback, EarlyStopping, ModelCheckpoint\r\n",
        "from tensorflow.compat.v1.keras.layers import CuDNNLSTM"
      ],
      "execution_count": null,
      "outputs": []
    },
    {
      "cell_type": "code",
      "metadata": {
        "colab": {
          "base_uri": "https://localhost:8080/"
        },
        "id": "-0lnUMJTTHgr",
        "outputId": "06d710fc-145c-4d5f-d0db-8d63108bc60b"
      },
      "source": [
        "model2 = Sequential()\r\n",
        "\r\n",
        "model2.add(CuDNNLSTM(units = 512, input_shape = (max_len, len(vocab)), return_sequences = True))\r\n",
        "model2.add(Dropout(.2))\r\n",
        "model2.add(CuDNNLSTM(units = 512, return_sequences = True))\r\n",
        "model2.add(Dropout(.2))\r\n",
        "model2.add(CuDNNLSTM(units = 512))#, return_sequences = True))\r\n",
        "model2.add(Dropout(.2))\r\n",
        "# model2.add(CuDNNLSTM(units = 128, return_sequences = True))\r\n",
        "# model2.add(Dropout(.2))\r\n",
        "# model2.add(CuDNNLSTM(units = 128, return_sequences = True))\r\n",
        "# model2.add(Dropout(.2))\r\n",
        "# model2.add(CuDNNLSTM(units = 128))\r\n",
        "# model2.add(Dropout(.2))\r\n",
        "\r\n",
        "model2.add(Dense(len(vocab), activation = 'softmax'))\r\n",
        "\r\n",
        "model2.compile(loss = 'categorical_crossentropy', optimizer = 'adam', metrics = ['accuracy'])\r\n",
        "model2.summary()"
      ],
      "execution_count": null,
      "outputs": [
        {
          "output_type": "stream",
          "text": [
            "Model: \"sequential_2\"\n",
            "_________________________________________________________________\n",
            "Layer (type)                 Output Shape              Param #   \n",
            "=================================================================\n",
            "cu_dnnlstm_6 (CuDNNLSTM)     (None, 30, 512)           1159168   \n",
            "_________________________________________________________________\n",
            "dropout_6 (Dropout)          (None, 30, 512)           0         \n",
            "_________________________________________________________________\n",
            "cu_dnnlstm_7 (CuDNNLSTM)     (None, 30, 512)           2101248   \n",
            "_________________________________________________________________\n",
            "dropout_7 (Dropout)          (None, 30, 512)           0         \n",
            "_________________________________________________________________\n",
            "cu_dnnlstm_8 (CuDNNLSTM)     (None, 512)               2101248   \n",
            "_________________________________________________________________\n",
            "dropout_8 (Dropout)          (None, 512)               0         \n",
            "_________________________________________________________________\n",
            "dense_2 (Dense)              (None, 52)                26676     \n",
            "=================================================================\n",
            "Total params: 5,388,340\n",
            "Trainable params: 5,388,340\n",
            "Non-trainable params: 0\n",
            "_________________________________________________________________\n"
          ],
          "name": "stdout"
        }
      ]
    },
    {
      "cell_type": "code",
      "metadata": {
        "id": "fBD3y5rxTJM0"
      },
      "source": [
        "def sample(preds, temperature = 1.0):\r\n",
        "    # helper to sample index from a prob array\r\n",
        "    preds = np.asarray(preds).astype('float64')\r\n",
        "    preds = np.log(preds) / temperature\r\n",
        "\r\n",
        "    preds = np.exp(preds) / np.sum(np.exp(preds))\r\n",
        "    probas = np.random.multinomial(1, preds, 1)\r\n",
        "    return np.argmax(probas)\r\n",
        "\r\n",
        "def on_epoch_end2(epoch, _):\r\n",
        "\r\n",
        "    # function invoked at end of each epoch to print generated text\r\n",
        "    print()\r\n",
        "    print('----Generating text after epoch %d' % epoch+1)\r\n",
        "\r\n",
        "    start_index = 0\r\n",
        "    # text_starter = np.random.randint(0, len(indie_lyrics_sampled)-100)\r\n",
        "    # text_ender = text_starter + 99 \r\n",
        "    # lyric_ = text_[text_starter : text_ender]  # select random part of lyrics\r\n",
        "    \r\n",
        "    random_song_ind = np.random.randint(0, len(indie_lyrics_sampled)-1)\r\n",
        "    random_song = indie_lyrics_sampled[random_song_ind]\r\n",
        "\r\n",
        "\r\n",
        "    for temp in [.2, .5, 1]:\r\n",
        "        print('Temperature at : ', temp)\r\n",
        "        print('\\n')\r\n",
        "        generated = ''\r\n",
        "        sentence = random_song[start_index : start_index + max_len]\r\n",
        "        generated += sentence\r\n",
        "\r\n",
        "        print('---Original lyrics (first 200 chars): \\n', random_song[:200])\r\n",
        "        print('\\n---Generated with seed: \\n\"' + sentence + '\"')\r\n",
        "        sys.stdout.write(generated)\r\n",
        "\r\n",
        "        for i in range(300):\r\n",
        "            x_pred = np.zeros((1, max_len, len(vocab)))\r\n",
        "            for t, char in enumerate(sentence):\r\n",
        "                x_pred[0, t, char_to_ind[char]] = 1\r\n",
        "\r\n",
        "            preds = model2.predict(x_pred, verbose = 0)[0]\r\n",
        "            next_index = sample(preds, temp)\r\n",
        "            next_char = ind_to_char[next_index]\r\n",
        "\r\n",
        "            generated += next_char\r\n",
        "            sentence = sentence[1:] + next_char\r\n",
        "\r\n",
        "            sys.stdout.write(next_char)\r\n",
        "            sys.stdout.flush()\r\n",
        "\r\n",
        "        print()\r\n",
        "        print('\\n')"
      ],
      "execution_count": null,
      "outputs": []
    },
    {
      "cell_type": "code",
      "metadata": {
        "colab": {
          "base_uri": "https://localhost:8080/"
        },
        "id": "_KgDIuo1TRTy",
        "outputId": "ef9b648c-51d6-44f5-a795-70491e17b9e4"
      },
      "source": [
        "\r\n",
        "\r\n",
        "# fit model\r\n",
        "epoch_summary2 = LambdaCallback(on_epoch_end = on_epoch_end2)\r\n",
        "earlyStopper = EarlyStopping(monitor = 'val_accuracy', patience = 5)\r\n",
        "\r\n",
        "model_path = '/content/indie_song_generator(seed len 30).hdf5'\r\n",
        "\r\n",
        "checkpoint_= ModelCheckpoint(model_path, monitor='val_accuracy', verbose=0, save_best_only=True)\r\n",
        "\r\n",
        "\r\n",
        "model2.fit(x_arr, y_arr, epochs = 50, batch_size = 512, callbacks = [epoch_summary2, earlyStopper, checkpoint_], validation_split = .25, shuffle = True)"
      ],
      "execution_count": null,
      "outputs": [
        {
          "output_type": "stream",
          "text": [
            "Epoch 1/50\n",
            "1490/1490 [==============================] - 259s 173ms/step - loss: 2.4690 - accuracy: 0.3009 - val_loss: 1.5660 - val_accuracy: 0.5211\n",
            "\n",
            "----Generating text after epoch 0\n",
            "Temperature at :  0.2\n",
            "---Original lyrics (first 200 chars):  i believe when we were younger we thought that we deserved the sun i met you when you were 18 i was pushing 21 the sentiment, the twists and turns begun living close to philadelphia we would go there \n",
            "\n",
            "---Generated with seed: \"i believe when we were younger\"\n",
            "i believe when we were younger and i wanna be a little will be my heart to the dark of the street to the street the stranger the street to see it all the same the far the same\n",
            "i wa\n",
            "\n",
            "\n",
            "Temperature at :  0.5\n",
            "---Original lyrics (first 200 chars):  i believe when we were younger we thought that we deserved the sun i met you when you were 18 i was pushing 21 the sentiment, the twists and turns begun living close to philadelphia we would go there \n",
            "\n",
            "---Generated with seed: \"i believe when we were younger\"\n",
            "i believe when we were younger in the time in the mast come and it all the back to hold at here\n",
            "will know all the state sometimes to the sun in the space of me\n",
            "and i can't tell me\n",
            "\n",
            "\n",
            "\n",
            "Temperature at :  1\n",
            "---Original lyrics (first 200 chars):  i believe when we were younger we thought that we deserved the sun i met you when you were 18 i was pushing 21 the sentiment, the twists and turns begun living close to philadelphia we would go there \n",
            "\n",
            "---Generated with seed: \"i believe when we were younger\"\n",
            "i believe when we were younger and narggate trie up betone op aroverways\n",
            "\n",
            "but little\n",
            "scround praconts dard to be all it neer to meay\n",
            "rase you want to me\n",
            "and all you spen not opers\n",
            "\n",
            "\n",
            "\n",
            "Epoch 2/50\n",
            "1490/1490 [==============================] - 268s 180ms/step - loss: 1.4817 - accuracy: 0.5419 - val_loss: 1.4373 - val_accuracy: 0.5557\n",
            "\n",
            "----Generating text after epoch 1\n",
            "Temperature at :  0.2\n",
            "---Original lyrics (first 200 chars):  there's a land brighter than day\n",
            "our eyes can only see it with faith\n",
            "over the way our father waits\n",
            "to welcome us to a safe dwelling place\n",
            "\n",
            "in the sweet by and by\n",
            "in the sweet by and by\n",
            "we will meet\n",
            "yo\n",
            "\n",
            "---Generated with seed: \"there's a land brighter than d\"\n",
            "there's a land brighter than days\n",
            "i want to see the same of me\n",
            "i can see you so it was the same\n",
            "i was a shade and i was a beautiful soul and the stars and the same of the sun was a\n",
            "\n",
            "\n",
            "Temperature at :  0.5\n",
            "---Original lyrics (first 200 chars):  there's a land brighter than day\n",
            "our eyes can only see it with faith\n",
            "over the way our father waits\n",
            "to welcome us to a safe dwelling place\n",
            "\n",
            "in the sweet by and by\n",
            "in the sweet by and by\n",
            "we will meet\n",
            "yo\n",
            "\n",
            "---Generated with seed: \"there's a land brighter than d\"\n",
            "there's a land brighter than dreams of the flace of the stars\n",
            "i got a chose of the shoolow was share the paster beautiful the way we could go on the fire\n",
            "when i want to make me see\n",
            "\n",
            "\n",
            "Temperature at :  1\n",
            "---Original lyrics (first 200 chars):  there's a land brighter than day\n",
            "our eyes can only see it with faith\n",
            "over the way our father waits\n",
            "to welcome us to a safe dwelling place\n",
            "\n",
            "in the sweet by and by\n",
            "in the sweet by and by\n",
            "we will meet\n",
            "yo\n",
            "\n",
            "---Generated with seed: \"there's a land brighter than d\"\n",
            "there's a land brighter than da for\n",
            "\n",
            "and she mean this new\n",
            "oh, they're never ?ne.\n",
            "\n",
            "you know whos\n",
            "la, aayme now oh my days are your holding this eyes\n",
            "everywheren that you can really\n",
            "\n",
            "\n",
            "Epoch 3/50\n",
            "1490/1490 [==============================] - 270s 181ms/step - loss: 1.3279 - accuracy: 0.5841 - val_loss: 1.3970 - val_accuracy: 0.5675\n",
            "\n",
            "----Generating text after epoch 2\n",
            "Temperature at :  0.2\n",
            "---Original lyrics (first 200 chars):  who flies above them all\n",
            "to the past, the millions crawl\n",
            "calling from another place\n",
            "where the ancient memories awake\n",
            "don't let them fade\n",
            "the everlasting scream\n",
            "is on the way\n",
            "\n",
            "same spirits over me\n",
            "that\n",
            "\n",
            "---Generated with seed: \"who flies above them all\n",
            "to th\"\n",
            "who flies above them all\n",
            "to the street are the same where i say is a sad in the start\n",
            "i was always been the same and i know i want to be the same with the sun shoot at the stars an\n",
            "\n",
            "\n",
            "Temperature at :  0.5\n",
            "---Original lyrics (first 200 chars):  who flies above them all\n",
            "to the past, the millions crawl\n",
            "calling from another place\n",
            "where the ancient memories awake\n",
            "don't let them fade\n",
            "the everlasting scream\n",
            "is on the way\n",
            "\n",
            "same spirits over me\n",
            "that\n",
            "\n",
            "---Generated with seed: \"who flies above them all\n",
            "to th\"\n",
            "who flies above them all\n",
            "to the side of me\n",
            "\n",
            "i'm a shade of my country\n",
            "i want to take it out of her change i was a car crazy back in my pieces\n",
            "and start all asking the city\n",
            "oh i won\n",
            "\n",
            "\n",
            "Temperature at :  1\n",
            "---Original lyrics (first 200 chars):  who flies above them all\n",
            "to the past, the millions crawl\n",
            "calling from another place\n",
            "where the ancient memories awake\n",
            "don't let them fade\n",
            "the everlasting scream\n",
            "is on the way\n",
            "\n",
            "same spirits over me\n",
            "that\n",
            "\n",
            "---Generated with seed: \"who flies above them all\n",
            "to th\"\n",
            "who flies above them all\n",
            "to the things we could geg the can friend\n",
            "we're blindled in you\n",
            "but late less turned lifes are putting down to your mind. in teich hall but i'm trying to d\n",
            "\n",
            "\n",
            "Epoch 4/50\n",
            "1490/1490 [==============================] - 270s 181ms/step - loss: 1.2352 - accuracy: 0.6113 - val_loss: 1.3942 - val_accuracy: 0.5721\n",
            "\n",
            "----Generating text after epoch 3\n",
            "Temperature at :  0.2\n",
            "---Original lyrics (first 200 chars):  you are true honeymoon child\n",
            "conceived on an island in the sun\n",
            "heals dug in the white sand\n",
            "loved and adored from day one\n",
            "\n",
            "raised in a wild space\n",
            "between two hearts\n",
            "with the vines climb trees towards t\n",
            "\n",
            "---Generated with seed: \"you are true honeymoon child\n",
            "c\"\n",
            "you are true honeymoon child\n",
            "come on come on \n",
            "i can't see you to me\n",
            "i want to be another second stars\n",
            "and i was a sound\n",
            "i want to be alone and i want to be alone\n",
            "but i was a strang\n",
            "\n",
            "\n",
            "Temperature at :  0.5\n",
            "---Original lyrics (first 200 chars):  you are true honeymoon child\n",
            "conceived on an island in the sun\n",
            "heals dug in the white sand\n",
            "loved and adored from day one\n",
            "\n",
            "raised in a wild space\n",
            "between two hearts\n",
            "with the vines climb trees towards t\n",
            "\n",
            "---Generated with seed: \"you are true honeymoon child\n",
            "c\"\n",
            "you are true honeymoon child\n",
            "cause i don't want to see you in the end of lover\n",
            "i can't be my heart if you don't want to be the world when i'm forgiven complints to me\n",
            "i want to be \n",
            "\n",
            "\n",
            "Temperature at :  1\n",
            "---Original lyrics (first 200 chars):  you are true honeymoon child\n",
            "conceived on an island in the sun\n",
            "heals dug in the white sand\n",
            "loved and adored from day one\n",
            "\n",
            "raised in a wild space\n",
            "between two hearts\n",
            "with the vines climb trees towards t\n",
            "\n",
            "---Generated with seed: \"you are true honeymoon child\n",
            "c\"\n",
            "you are true honeymoon child\n",
            "come around in the lightses when you room of our body\n",
            "got to keep the memiled eyes there think you would. \n",
            "pale of pain\n",
            "oh, the bad sweet doors for wea\n",
            "\n",
            "\n",
            "Epoch 5/50\n",
            "1490/1490 [==============================] - 270s 181ms/step - loss: 1.1651 - accuracy: 0.6323 - val_loss: 1.3959 - val_accuracy: 0.5719\n",
            "\n",
            "----Generating text after epoch 4\n",
            "Temperature at :  0.2\n",
            "---Original lyrics (first 200 chars):  there is a place where i can go\n",
            "where all my secrets\n",
            "no one knows\n",
            "i'll meet you there\n",
            "i'll meet you there\n",
            "'cause i don't want to be anywhere else but home\n",
            "i see myself at 8 years old\n",
            "i'm on the couch \n",
            "\n",
            "---Generated with seed: \"there is a place where i can g\"\n",
            "there is a place where i can get to see the same and the streets and the sun she said \"i love you and you know that i was a boy on the sun the streets are the same of the streets a\n",
            "\n",
            "\n",
            "Temperature at :  0.5\n",
            "---Original lyrics (first 200 chars):  there is a place where i can go\n",
            "where all my secrets\n",
            "no one knows\n",
            "i'll meet you there\n",
            "i'll meet you there\n",
            "'cause i don't want to be anywhere else but home\n",
            "i see myself at 8 years old\n",
            "i'm on the couch \n",
            "\n",
            "---Generated with seed: \"there is a place where i can g\"\n",
            "there is a place where i can go with something to lose the love of you i won't be found i think i can't see the rest of the note and show the same and i had lived to be killed the \n",
            "\n",
            "\n",
            "Temperature at :  1\n",
            "---Original lyrics (first 200 chars):  there is a place where i can go\n",
            "where all my secrets\n",
            "no one knows\n",
            "i'll meet you there\n",
            "i'll meet you there\n",
            "'cause i don't want to be anywhere else but home\n",
            "i see myself at 8 years old\n",
            "i'm on the couch \n",
            "\n",
            "---Generated with seed: \"there is a place where i can g\"\n",
            "there is a place where i can go.\n",
            "now don't you wold, amlite, to the night\n",
            "long acting, all the lien is record\n",
            "i know that i loved you to be tree from a while\n",
            "holding it's human, au\n",
            "\n",
            "\n",
            "Epoch 6/50\n",
            "1490/1490 [==============================] - 270s 181ms/step - loss: 1.1053 - accuracy: 0.6503 - val_loss: 1.4038 - val_accuracy: 0.5722\n",
            "\n",
            "----Generating text after epoch 5\n",
            "Temperature at :  0.2\n",
            "---Original lyrics (first 200 chars):  in every heart there is a room \n",
            "a sanctuary safe and strong\n",
            "to heal the wounds from lovers past\n",
            "until a new one comes along\n",
            "\n",
            "i spoke to you in cautious tones\n",
            "you answered me with no pretense \n",
            "and stil\n",
            "\n",
            "---Generated with seed: \"in every heart there is a room\"\n",
            "in every heart there is a room for me\n",
            "i want to be alone\n",
            "i know it's all about the time\n",
            "the stars are disease to the streets are the one\n",
            "the street light of the street with the sun\n",
            "\n",
            "\n",
            "Temperature at :  0.5\n",
            "---Original lyrics (first 200 chars):  in every heart there is a room \n",
            "a sanctuary safe and strong\n",
            "to heal the wounds from lovers past\n",
            "until a new one comes along\n",
            "\n",
            "i spoke to you in cautious tones\n",
            "you answered me with no pretense \n",
            "and stil\n",
            "\n",
            "---Generated with seed: \"in every heart there is a room\"\n",
            "in every heart there is a room for me to need you back home\n",
            "\n",
            "some things i can change my eyes and love is blind\n",
            "and i can hear you love and be the one i'm all rain in the start\n",
            "i w\n",
            "\n",
            "\n",
            "Temperature at :  1\n",
            "---Original lyrics (first 200 chars):  in every heart there is a room \n",
            "a sanctuary safe and strong\n",
            "to heal the wounds from lovers past\n",
            "until a new one comes along\n",
            "\n",
            "i spoke to you in cautious tones\n",
            "you answered me with no pretense \n",
            "and stil\n",
            "\n",
            "---Generated with seed: \"in every heart there is a room\"\n",
            "in every heart there is a room to cross a lie now\n",
            "happening the feeling of friends, no people unternowed\n",
            "all my dead? we could turn around a coke to the heart\n",
            "out and gost free.\n",
            "\n",
            "i\n",
            "\n",
            "\n",
            "Epoch 7/50\n",
            "1490/1490 [==============================] - 270s 181ms/step - loss: 1.0547 - accuracy: 0.6657 - val_loss: 1.4177 - val_accuracy: 0.5723\n",
            "\n",
            "----Generating text after epoch 6\n",
            "Temperature at :  0.2\n",
            "---Original lyrics (first 200 chars):  little darling you are the queen and i think of you with nothing but bad intentions as hard as i try to make a scene my efforts seem to go without a mention from the start to the end i can't stand you\n",
            "\n",
            "---Generated with seed: \"little darling you are the que\"\n",
            "little darling you are the question that i will be the same thing to love me to be with you\n",
            "\n",
            "i don't wanna just dream in your sleep it's so cold\n",
            "i can see the world is the same all\n",
            "\n",
            "\n",
            "Temperature at :  0.5\n",
            "---Original lyrics (first 200 chars):  little darling you are the queen and i think of you with nothing but bad intentions as hard as i try to make a scene my efforts seem to go without a mention from the start to the end i can't stand you\n",
            "\n",
            "---Generated with seed: \"little darling you are the que\"\n",
            "little darling you are the question i want to hear a song about you it's all about it's all about what you wanted was all the time\n",
            "i see you please don't make it better with a fool\n",
            "\n",
            "\n",
            "Temperature at :  1\n",
            "---Original lyrics (first 200 chars):  little darling you are the queen and i think of you with nothing but bad intentions as hard as i try to make a scene my efforts seem to go without a mention from the start to the end i can't stand you\n",
            "\n",
            "---Generated with seed: \"little darling you are the que\"\n",
            "little darling you are the question of the thrill herrow we start again\n",
            "and every song it's better all the cots things closed he rise.\n",
            "taking my body go no light me up when i'm cau\n",
            "\n",
            "\n",
            "Epoch 8/50\n",
            "1490/1490 [==============================] - 270s 181ms/step - loss: 1.0094 - accuracy: 0.6797 - val_loss: 1.4416 - val_accuracy: 0.5696\n",
            "\n",
            "----Generating text after epoch 7\n",
            "Temperature at :  0.2\n",
            "---Original lyrics (first 200 chars):  maybe i like you\n",
            "maybe i do\n",
            "oooh ooooh ooooh\n",
            "maybe i found something real\n",
            "i just don't know if was i wrong to trust anyone\n",
            "tell me\n",
            "tell me\n",
            "did you tell them everything i said?\n",
            "did you tell them everyt\n",
            "\n",
            "---Generated with seed: \"maybe i like you\n",
            "maybe i do\n",
            "oo\"\n",
            "maybe i like you\n",
            "maybe i do\n",
            "ooooh ooooh ooooh ooooh of love and i can see that you would be true to you\n",
            "i guess you want to be alone\n",
            "i want to be alone all night long\n",
            "i can see you\n",
            "\n",
            "\n",
            "Temperature at :  0.5\n",
            "---Original lyrics (first 200 chars):  maybe i like you\n",
            "maybe i do\n",
            "oooh ooooh ooooh\n",
            "maybe i found something real\n",
            "i just don't know if was i wrong to trust anyone\n",
            "tell me\n",
            "tell me\n",
            "did you tell them everything i said?\n",
            "did you tell them everyt\n",
            "\n",
            "---Generated with seed: \"maybe i like you\n",
            "maybe i do\n",
            "oo\"\n",
            "maybe i like you\n",
            "maybe i do\n",
            "ooooh ooooh ooooh ooooh\n",
            "\n",
            "one on one i wanna stay for you but when the light is gone\n",
            "we would see it in the world of my feet\n",
            "i can see the world with me\n",
            "\n",
            "\n",
            "\n",
            "Temperature at :  1\n",
            "---Original lyrics (first 200 chars):  maybe i like you\n",
            "maybe i do\n",
            "oooh ooooh ooooh\n",
            "maybe i found something real\n",
            "i just don't know if was i wrong to trust anyone\n",
            "tell me\n",
            "tell me\n",
            "did you tell them everything i said?\n",
            "did you tell them everyt\n",
            "\n",
            "---Generated with seed: \"maybe i like you\n",
            "maybe i do\n",
            "oo\"\n",
            "maybe i like you\n",
            "maybe i do\n",
            "ooooh ooooh ooooh. eady 'cause we're coming off\n",
            "\n",
            "so everybody root here\n",
            "\n",
            "jarnely your song of this fall wreck your hand apart a ghost of my heart\n",
            "i know\n",
            "\n",
            "\n",
            "Epoch 9/50\n",
            "1490/1490 [==============================] - 269s 181ms/step - loss: 0.9709 - accuracy: 0.6919 - val_loss: 1.4622 - val_accuracy: 0.5680\n",
            "\n",
            "----Generating text after epoch 8\n",
            "Temperature at :  0.2\n",
            "---Original lyrics (first 200 chars):  my baby cried all night long\n",
            "yeah my baby cried all night long\n",
            "he saw me dancin' with a boy named joe\n",
            "a-huggin' and a-kissin' with the lamps down low\n",
            "and my baby cried all night long\n",
            "\n",
            "yeah my baby cri\n",
            "\n",
            "---Generated with seed: \"my baby cried all night long\n",
            "y\"\n",
            "my baby cried all night long\n",
            "yeah long beach\n",
            "land bell, don't let them see you back home\n",
            "\n",
            "i was the one to say you there are all the same and the stars are staring at the stars on \n",
            "\n",
            "\n",
            "Temperature at :  0.5\n",
            "---Original lyrics (first 200 chars):  my baby cried all night long\n",
            "yeah my baby cried all night long\n",
            "he saw me dancin' with a boy named joe\n",
            "a-huggin' and a-kissin' with the lamps down low\n",
            "and my baby cried all night long\n",
            "\n",
            "yeah my baby cri\n",
            "\n",
            "---Generated with seed: \"my baby cried all night long\n",
            "y\"\n",
            "my baby cried all night long\n",
            "yeah long beach, can you hear me?\n",
            "can you hear me?\n",
            "can you hear me?\n",
            "can i get enough of\n",
            "the lights start to show\n",
            "my lover will be the same now that it'\n",
            "\n",
            "\n",
            "Temperature at :  1\n",
            "---Original lyrics (first 200 chars):  my baby cried all night long\n",
            "yeah my baby cried all night long\n",
            "he saw me dancin' with a boy named joe\n",
            "a-huggin' and a-kissin' with the lamps down low\n",
            "and my baby cried all night long\n",
            "\n",
            "yeah my baby cri\n",
            "\n",
            "---Generated with seed: \"my baby cried all night long\n",
            "y\"\n",
            "my baby cried all night long\n",
            "you are goin' pressunding for a cold waiting and unbreak\n",
            "of victures said our lives are alright\n",
            "and where he issnesting it here no trist\n",
            "\n",
            "but now i kno\n",
            "\n",
            "\n",
            "Epoch 10/50\n",
            "1490/1490 [==============================] - 270s 181ms/step - loss: 0.9454 - accuracy: 0.6994 - val_loss: 1.4654 - val_accuracy: 0.5698\n",
            "\n",
            "----Generating text after epoch 9\n",
            "Temperature at :  0.2\n",
            "---Original lyrics (first 200 chars):  it's not up to me, its not a13\n",
            "it's not the circle k at the top of street\n",
            "\n",
            "i know it may seem debonnaire\n",
            "but there's time on the line that we just can't spare\n",
            "hold up everybody, put it all on ice\n",
            "gott\n",
            "\n",
            "---Generated with seed: \"it's not up to me, its not a13\"\n",
            "it's not up to me, its not a13\n",
            "it could be the one to love you\n",
            "easy to love you\n",
            "easy to love you\n",
            "easy to love you\n",
            "easy to love you\n",
            "easy to love you\n",
            "easy to love you\n",
            "easy to love yo\n",
            "\n",
            "\n",
            "Temperature at :  0.5\n",
            "---Original lyrics (first 200 chars):  it's not up to me, its not a13\n",
            "it's not the circle k at the top of street\n",
            "\n",
            "i know it may seem debonnaire\n",
            "but there's time on the line that we just can't spare\n",
            "hold up everybody, put it all on ice\n",
            "gott\n",
            "\n",
            "---Generated with seed: \"it's not up to me, its not a13\"\n",
            "it's not up to me, its not a13 if i can see the words to say\n",
            "i was to you that i'm always right\n",
            "\n",
            "steady soul as he's got a place for me to be quite quiet right now\n",
            "i can see the pe\n",
            "\n",
            "\n",
            "Temperature at :  1\n",
            "---Original lyrics (first 200 chars):  it's not up to me, its not a13\n",
            "it's not the circle k at the top of street\n",
            "\n",
            "i know it may seem debonnaire\n",
            "but there's time on the line that we just can't spare\n",
            "hold up everybody, put it all on ice\n",
            "gott\n",
            "\n",
            "---Generated with seed: \"it's not up to me, its not a13\"\n",
            "it's not up to me, its not a13 everything was what it was\n",
            "wores in the undergrowth\n",
            "this year\n",
            "buzz around in the main\n",
            "\n",
            "outside, i was the fearth to think\n",
            "that we're the same?\n",
            "\n",
            "the s\n",
            "\n",
            "\n",
            "Epoch 11/50\n",
            "1490/1490 [==============================] - 270s 181ms/step - loss: 0.9141 - accuracy: 0.7093 - val_loss: 1.4747 - val_accuracy: 0.5669\n",
            "\n",
            "----Generating text after epoch 10\n",
            "Temperature at :  0.2\n",
            "---Original lyrics (first 200 chars):  little boy in corduroy\n",
            "donovan\n",
            "\n",
            "a little boy in corduroy\n",
            "a little girl in lace\n",
            "a little coy jump for joy\n",
            "colour in a space\n",
            "\n",
            "little boy in corduroy\n",
            "after me say\n",
            "save a sunny wish for a rainy day\n",
            "\n",
            "how m\n",
            "\n",
            "---Generated with seed: \"little boy in corduroy\n",
            "donovan\"\n",
            "little boy in corduroy\n",
            "donovan\n",
            "\n",
            "when you come around\n",
            "say goodbye by the world from your shoulders lift up the weight of the world from your shoulders lift up the weight of the worl\n",
            "\n",
            "\n",
            "Temperature at :  0.5\n",
            "---Original lyrics (first 200 chars):  little boy in corduroy\n",
            "donovan\n",
            "\n",
            "a little boy in corduroy\n",
            "a little girl in lace\n",
            "a little coy jump for joy\n",
            "colour in a space\n",
            "\n",
            "little boy in corduroy\n",
            "after me say\n",
            "save a sunny wish for a rainy day\n",
            "\n",
            "how m\n",
            "\n",
            "---Generated with seed: \"little boy in corduroy\n",
            "donovan\"\n",
            "little boy in corduroy\n",
            "donovanada\n",
            "let's go down. down on your bare real life\n",
            "you're sure the same love for me the same song and a lot of mine\n",
            "it could be you, yeah you say\n",
            "i was al\n",
            "\n",
            "\n",
            "Temperature at :  1\n",
            "---Original lyrics (first 200 chars):  little boy in corduroy\n",
            "donovan\n",
            "\n",
            "a little boy in corduroy\n",
            "a little girl in lace\n",
            "a little coy jump for joy\n",
            "colour in a space\n",
            "\n",
            "little boy in corduroy\n",
            "after me say\n",
            "save a sunny wish for a rainy day\n",
            "\n",
            "how m\n",
            "\n",
            "---Generated with seed: \"little boy in corduroy\n",
            "donovan\"\n",
            "little boy in corduroy\n",
            "donovan wo'll find my hand on your way\n",
            "to a forgive me to sound\n",
            "you know i don't miss this tried to change\n",
            "\"our girl i say\n",
            "time ain't that shake\n",
            "\n",
            "but i said \n",
            "\n",
            "\n",
            "Epoch 12/50\n",
            "1490/1490 [==============================] - 270s 181ms/step - loss: 0.8896 - accuracy: 0.7158 - val_loss: 1.5011 - val_accuracy: 0.5650\n",
            "\n",
            "----Generating text after epoch 11\n",
            "Temperature at :  0.2\n",
            "---Original lyrics (first 200 chars):  throw me a bone\n",
            "the night it trickles like the sleeping sand\n",
            "and the roads in my hands, \n",
            "this all'd heal, it's stuck in every drain\n",
            "\n",
            "tell me why you came \n",
            "'cause i don't know why people can change \n",
            "an\n",
            "\n",
            "---Generated with seed: \"throw me a bone\n",
            "the night it t\"\n",
            "throw me a bone\n",
            "the night it takes it comes\n",
            "\n",
            "i want to be the one to feel the same song anymore\n",
            "and now your offering is right now\n",
            "i know i know i need you\n",
            "the house is all i can s\n",
            "\n",
            "\n",
            "Temperature at :  0.5\n",
            "---Original lyrics (first 200 chars):  throw me a bone\n",
            "the night it trickles like the sleeping sand\n",
            "and the roads in my hands, \n",
            "this all'd heal, it's stuck in every drain\n",
            "\n",
            "tell me why you came \n",
            "'cause i don't know why people can change \n",
            "an\n",
            "\n",
            "---Generated with seed: \"throw me a bone\n",
            "the night it t\"\n",
            "throw me a bone\n",
            "the night it takes it comes for a child\n",
            "and i cannot help myself\n",
            "i wanna be your baby\n",
            "i don't mind if you want to make it right we can do it all back in the morning\n",
            "\n",
            "\n",
            "Temperature at :  1\n",
            "---Original lyrics (first 200 chars):  throw me a bone\n",
            "the night it trickles like the sleeping sand\n",
            "and the roads in my hands, \n",
            "this all'd heal, it's stuck in every drain\n",
            "\n",
            "tell me why you came \n",
            "'cause i don't know why people can change \n",
            "an\n",
            "\n",
            "---Generated with seed: \"throw me a bone\n",
            "the night it t\"\n",
            "throw me a bone\n",
            "the night it takes another bar\n",
            "\n",
            "from the ocean. i'd listen down to a strangest thrill\n",
            "we'll reach of those fault\n",
            "you never case you paint your blood \n",
            "one for good f\n",
            "\n",
            "\n"
          ],
          "name": "stdout"
        },
        {
          "output_type": "execute_result",
          "data": {
            "text/plain": [
              "<tensorflow.python.keras.callbacks.History at 0x7fab15d67780>"
            ]
          },
          "metadata": {
            "tags": []
          },
          "execution_count": 57
        }
      ]
    },
    {
      "cell_type": "code",
      "metadata": {
        "id": "DQLGf43a8tnD"
      },
      "source": [
        "model2.save('/content/drive/MyDrive/Colab Notebooks/indie_song_gen.h5')"
      ],
      "execution_count": null,
      "outputs": []
    },
    {
      "cell_type": "code",
      "metadata": {
        "id": "fJVli1G2xcY0"
      },
      "source": [
        "def generate_w_seed(sentence,temperature):\r\n",
        "    sentence = sentence[0:max_len]\r\n",
        "    # print(f'seed: {sentence}')\r\n",
        "    print(f'temperature: {temperature}')\r\n",
        "    generated = ''\r\n",
        "    generated += sentence\r\n",
        "    \r\n",
        "    sys.stdout.write(generated)\r\n",
        "\r\n",
        "    for i in range(500):\r\n",
        "        x_pred = np.zeros((1, max_len, len(vocab)))\r\n",
        "        for t, char in enumerate(sentence):\r\n",
        "            x_pred[0, t, char_to_ind[char]] = 1\r\n",
        "\r\n",
        "        preds = model2.predict(x_pred, verbose=0)[0]\r\n",
        "        next_index = sample(preds, temperature)\r\n",
        "        next_char = ind_to_char[next_index]\r\n",
        "\r\n",
        "        generated += next_char\r\n",
        "        sentence = sentence[1:] + next_char\r\n",
        "\r\n",
        "        sys.stdout.write(next_char)\r\n",
        "        sys.stdout.flush()\r\n",
        "    print()\r\n",
        "    return"
      ],
      "execution_count": null,
      "outputs": []
    },
    {
      "cell_type": "code",
      "metadata": {
        "colab": {
          "base_uri": "https://localhost:8080/"
        },
        "id": "2B1hpzFw8tt4",
        "outputId": "6ba7b572-cb71-44e5-c65a-db1af15ec4f9"
      },
      "source": [
        "for temp in [.2,.5,.8,1.0]:\r\n",
        "    generate_w_seed(\"Stop making the eyes at me \\nI'll stop making the eyes at you\".lower(), temp)\r\n",
        "    print()\r\n",
        "    print('========================================================================\\n')"
      ],
      "execution_count": null,
      "outputs": [
        {
          "output_type": "stream",
          "text": [
            "temperature: 0.2\n",
            "stop making the eyes at me \n",
            "i'm so happy to the defining in the morning and the sun burns the same all the times they have gone,\n",
            "the band of the world to start the same mistakes\n",
            "i'm gonna drive away the sun below me\n",
            "i was the far and find another sleep and the stars that you could stay for an explosion\n",
            "to the shores and the streets are fine\n",
            "and i'm still trying to find the same all the things you have to be a promise more than i can see the same song anymore\n",
            "and now your offering is really gone\n",
            "\n",
            "and it's all on the way to yo\n",
            "\n",
            "========================================================================\n",
            "\n",
            "temperature: 0.5\n",
            "stop making the eyes at me \n",
            "i'm so long and i don't want to be alone\n",
            "i know i know i need you to believe in\n",
            "\n",
            "i see you here with you and me. \n",
            "when you are there with you a bit through the constant state\n",
            "to find out if all the times you have to play\n",
            "then you've got a los to love me\n",
            "and the sounds in the country and i know you can change your mind is done and i'm only human\n",
            "and i'm not holding on anything i've got a lovely time\n",
            "\n",
            "i don't know who really\n",
            "you don't know how to act\n",
            "a couse\n",
            "walk away from me your love is better tha\n",
            "\n",
            "========================================================================\n",
            "\n",
            "temperature: 0.8\n",
            "stop making the eyes at me \n",
            "i'm shuttered in my head\n",
            "i walk through the walls that we've gone put out me of getting in the viret of his big fine\n",
            "when come to me now\n",
            "he would stay with me\n",
            "uncolding off a convince, i'm hoping, we will walk and take their bar too\n",
            " \n",
            "to grabned and ideasion lord you blue and i'm so far away with you when your brothers are following, long as you knew in butince missing chick \n",
            "that get you and come when you're readying in your youngs on a new friends they are daily\n",
            "every place in the mouths digging\n",
            "\n",
            "========================================================================\n",
            "\n",
            "temperature: 1.0\n",
            "stop making the eyes at me \n",
            "i'm gonna do to show\n",
            "little corner wants to close, tomorrow, but two kags back to near me now this time, i've heard\n",
            "and yeah that i'm telling\n",
            "'cause she's put in there with you i praise your face.\n",
            "\n",
            "when love we been that far away\n",
            "for grated, it's all her attention.\n",
            "to surrender, and you are in your pain you've been the flashing rain crashing her voice\n",
            "say the words that i recognize my head\n",
            "and i'm scared\n",
            "since every time i miss you, if you're awake at all,\n",
            "tonight if you're awake watching you you,\n",
            "\n",
            "========================================================================\n",
            "\n"
          ],
          "name": "stdout"
        }
      ]
    },
    {
      "cell_type": "code",
      "metadata": {
        "colab": {
          "base_uri": "https://localhost:8080/"
        },
        "id": "QjAD1sfL8sck",
        "outputId": "791837e8-0afb-4a49-ba2a-3fdff747c021"
      },
      "source": [
        "for temp in [.2,.5,.8,1.0]:\r\n",
        "    generate_w_seed('love you more than craft beer '.lower(), temp)\r\n",
        "    print()\r\n",
        "    print('========================================================================\\n')"
      ],
      "execution_count": null,
      "outputs": [
        {
          "output_type": "stream",
          "text": [
            "temperature: 0.2\n",
            "love you more than craft beer the same all for the sound of your shoes\n",
            "there's no time to get out of this static\n",
            "throw it all to the part of you\n",
            "\n",
            "i know it's all about the money\n",
            "but i'm so dreaming\n",
            "you're so beautiful\n",
            "you're beautiful today\n",
            "you're a part of you\n",
            "\n",
            "i want to see you through the wall\n",
            "when you come around.\n",
            "everything is gonna be alright\n",
            "\n",
            "and i want to be the one to feel the same all the storm of the street\n",
            "we are one and i'm still trying to find myself in the sky\n",
            "i see the bloody that we come to the ground\n",
            "i don'\n",
            "\n",
            "========================================================================\n",
            "\n",
            "temperature: 0.5\n",
            "love you more than craft beer closed on the street\n",
            "with the sun blazed by a glow\n",
            "i'm standing in the matter or two show you are a savior\n",
            "and all the times that you gave to me\n",
            "then the world is yours\n",
            "then there's something in the way\n",
            "i see you nothing there are no in my heart\n",
            "\n",
            "but when the ancient stars are different\n",
            "i could be the love for us slowly and when i think of you lots sometimes\n",
            "i love you and i love you like i do\n",
            "and if you want to make it right we can make it right\n",
            "i said it's been too long to let go now hear me o\n",
            "\n",
            "========================================================================\n",
            "\n",
            "temperature: 0.8\n",
            "love you more than craft beer up and she's got my head\n",
            "she was not the feeling i'd never be the morning, and i don't want to be alone\n",
            "no no\n",
            "no no no\n",
            "no\n",
            "i don't need nothing from knother new and new life could do as hard as we get out\n",
            "and i will not see that it's not for you\n",
            "and you can't eat anything very time\n",
            "that i feel is in my head\n",
            "i'm so running from the band newly and the sorrow just remember\n",
            "i feel like this\n",
            "no one shows to see me\n",
            "\n",
            "why you find out so i cannot? \n",
            "hope you take me back\n",
            "it's not one thing it's gonna have\n",
            "\n",
            "========================================================================\n",
            "\n",
            "temperature: 1.0\n",
            "love you more than craft beer when you open every day\n",
            "see because of you\n",
            "for the president talks it slowly and start all the times even talking their\n",
            "one, i feel so crushing my soul\n",
            "her breath gos a road to pray\n",
            "golden till shakows away from me\n",
            "to see happy little hair to give her and then we'll get my time will come rudication\n",
            "on the motorway\n",
            "city outside\n",
            "too much\n",
            "and you must be waiting\n",
            "for you towards you for grace in my soon\n",
            "what was it see\n",
            "will i believe that put away from you now\n",
            "in your cards ca put their own\n",
            "me off t\n",
            "\n",
            "========================================================================\n",
            "\n"
          ],
          "name": "stdout"
        }
      ]
    },
    {
      "cell_type": "code",
      "metadata": {
        "colab": {
          "base_uri": "https://localhost:8080/"
        },
        "id": "H21rpKI-8sLH",
        "outputId": "6dccae65-6e45-4fff-eca0-aba720aeb6f7"
      },
      "source": [
        "for temp in [.2,.5,.8,1.0]:\r\n",
        "    generate_w_seed('love you more than boozing up '.lower(), temp)\r\n",
        "    print()\r\n",
        "    print('========================================================================\\n')"
      ],
      "execution_count": null,
      "outputs": [
        {
          "output_type": "stream",
          "text": [
            "temperature: 0.2\n",
            "love you more than boozing up and speaking in the sun\n",
            "it was all that you could be the same now i'm so hard to stay\n",
            "\n",
            "i want to be the greater you want to be the best friend i don't want to be alone like you\n",
            "another one like you and i\n",
            "\n",
            "i know it's all about the money\n",
            "but i'm so under, i'm under, i'm under, i'm under\n",
            "i'm under, i'm under\n",
            "i'm under, i'm under\n",
            "i'm under, i'm under\n",
            "i'm under, i'm under\n",
            "i'm under, i'm under\n",
            "i'm under, i'm under\n",
            "i'm under, i'm under\n",
            "i'm under, i'm under\n",
            "i'm under, i'm under\n",
            "i'm under, i'm under\n",
            "i'm\n",
            "\n",
            "========================================================================\n",
            "\n",
            "temperature: 0.5\n",
            "love you more than boozing up for the shit i'm pretty bad now\n",
            "\n",
            "there is no way out before\n",
            "we are dicking our love like this\n",
            "and i was wrong to remember\n",
            "the words that let us be so are\n",
            "and i will love like the world to show\n",
            "when you come around.\n",
            "so you'll see you to the rest of you and me and your heart\n",
            "i can't let you know\n",
            "i said that i will\n",
            "i said that i was wrong with me by the light of the store to the best\n",
            "white sun below me\n",
            "\n",
            "i was a sinner if you wanna be with me\n",
            "but what do you want from me\n",
            "well you call me away\n",
            "\n",
            "forge\n",
            "\n",
            "========================================================================\n",
            "\n",
            "temperature: 0.8\n",
            "love you more than boozing up cause all our time going to learn\n",
            "you say hes, you can see?\n",
            "it comes home\n",
            "it's coming on strongers when i was never here now we're rulling from the street\n",
            "all the fellas life feels so brand-'fear that\n",
            "that's okay, yes i was a choice at all.\n",
            "so seems you but i know that you can find my name\n",
            "will you rike the past\n",
            "that made them in the basement\n",
            "it's only home that come to me come on now josephine show yourself to me pretend i can't stand you at all when you say well \n",
            "i want them to you still will \n",
            "\n",
            "========================================================================\n",
            "\n",
            "temperature: 1.0\n",
            "love you more than boozing up the air of idety drencess stars the facts i must to go back to a trace\n",
            "oh, cause out on the talleble stations to the grain of pictures always on the rooms\n",
            "we could talk of blue and beating formstants five phones await\n",
            "don't want to hear you \n",
            "come let me know those times have chicked through\n",
            "\n",
            "grows, the steps of secrets\n",
            "do i settle disease to the grass\n",
            "shut off her minds\n",
            "let's go, let's go, let's go, let's go, let's go, let's go\n",
            "goodnight goodbye\n",
            "\n",
            "all the times could have gate behind you\n",
            "\n",
            "and if \n",
            "\n",
            "========================================================================\n",
            "\n"
          ],
          "name": "stdout"
        }
      ]
    },
    {
      "cell_type": "code",
      "metadata": {
        "id": "Ip3smlsx3tZ4"
      },
      "source": [
        ""
      ],
      "execution_count": null,
      "outputs": []
    },
    {
      "cell_type": "code",
      "metadata": {
        "id": "d0j7_lOY3tca"
      },
      "source": [
        ""
      ],
      "execution_count": null,
      "outputs": []
    },
    {
      "cell_type": "code",
      "metadata": {
        "id": "izTHxkhh3tfK"
      },
      "source": [
        ""
      ],
      "execution_count": null,
      "outputs": []
    },
    {
      "cell_type": "code",
      "metadata": {
        "id": "WqECNZYl3thQ"
      },
      "source": [
        ""
      ],
      "execution_count": null,
      "outputs": []
    },
    {
      "cell_type": "code",
      "metadata": {
        "id": "0lqcd12H3tjl"
      },
      "source": [
        ""
      ],
      "execution_count": null,
      "outputs": []
    },
    {
      "cell_type": "code",
      "metadata": {
        "id": "pVFtAp-s3tmB"
      },
      "source": [
        ""
      ],
      "execution_count": null,
      "outputs": []
    },
    {
      "cell_type": "code",
      "metadata": {
        "id": "6CRcoRlq3tsl"
      },
      "source": [
        ""
      ],
      "execution_count": null,
      "outputs": []
    },
    {
      "cell_type": "code",
      "metadata": {
        "id": "4aMxNBmi3t0Z"
      },
      "source": [
        ""
      ],
      "execution_count": null,
      "outputs": []
    },
    {
      "cell_type": "code",
      "metadata": {
        "id": "17rACiBX3t1I"
      },
      "source": [
        ""
      ],
      "execution_count": null,
      "outputs": []
    },
    {
      "cell_type": "code",
      "metadata": {
        "id": "D5LgLAeN3t19"
      },
      "source": [
        ""
      ],
      "execution_count": null,
      "outputs": []
    },
    {
      "cell_type": "code",
      "metadata": {
        "id": "G-sz-8iQ3t20"
      },
      "source": [
        ""
      ],
      "execution_count": null,
      "outputs": []
    },
    {
      "cell_type": "code",
      "metadata": {
        "id": "9D8qHnHv3t3p"
      },
      "source": [
        ""
      ],
      "execution_count": null,
      "outputs": []
    },
    {
      "cell_type": "code",
      "metadata": {
        "id": "I1r1Jy3T3t4h"
      },
      "source": [
        ""
      ],
      "execution_count": null,
      "outputs": []
    },
    {
      "cell_type": "code",
      "metadata": {
        "id": "N35sIkw-3t5e"
      },
      "source": [
        ""
      ],
      "execution_count": null,
      "outputs": []
    },
    {
      "cell_type": "code",
      "metadata": {
        "id": "TXkIU1qM3t6b"
      },
      "source": [
        ""
      ],
      "execution_count": null,
      "outputs": []
    },
    {
      "cell_type": "code",
      "metadata": {
        "id": "kIiqc6lQ3t7Z"
      },
      "source": [
        ""
      ],
      "execution_count": null,
      "outputs": []
    },
    {
      "cell_type": "code",
      "metadata": {
        "id": "PcmlrTig3t8S"
      },
      "source": [
        ""
      ],
      "execution_count": null,
      "outputs": []
    },
    {
      "cell_type": "code",
      "metadata": {
        "id": "V1uSy1q83t9J"
      },
      "source": [
        ""
      ],
      "execution_count": null,
      "outputs": []
    },
    {
      "cell_type": "code",
      "metadata": {
        "id": "wrlLO7kd3t-G"
      },
      "source": [
        ""
      ],
      "execution_count": null,
      "outputs": []
    },
    {
      "cell_type": "code",
      "metadata": {
        "id": "Dp_D6Cdb3t-8"
      },
      "source": [
        ""
      ],
      "execution_count": null,
      "outputs": []
    },
    {
      "cell_type": "code",
      "metadata": {
        "id": "UJWNlDkT3t_3"
      },
      "source": [
        ""
      ],
      "execution_count": null,
      "outputs": []
    },
    {
      "cell_type": "code",
      "metadata": {
        "id": "6JH18yg23uAv"
      },
      "source": [
        ""
      ],
      "execution_count": null,
      "outputs": []
    },
    {
      "cell_type": "code",
      "metadata": {
        "id": "Vy5lVARAIOVp"
      },
      "source": [
        ""
      ],
      "execution_count": null,
      "outputs": []
    },
    {
      "cell_type": "code",
      "metadata": {
        "id": "6_2gLlaqLHtj"
      },
      "source": [
        ""
      ],
      "execution_count": null,
      "outputs": []
    },
    {
      "cell_type": "code",
      "metadata": {
        "id": "vEhdpBoZLHuM"
      },
      "source": [
        ""
      ],
      "execution_count": null,
      "outputs": []
    },
    {
      "cell_type": "code",
      "metadata": {
        "id": "j3A6GjRYLHu-"
      },
      "source": [
        ""
      ],
      "execution_count": null,
      "outputs": []
    },
    {
      "cell_type": "code",
      "metadata": {
        "id": "YGjkShPFLHvz"
      },
      "source": [
        ""
      ],
      "execution_count": null,
      "outputs": []
    },
    {
      "cell_type": "code",
      "metadata": {
        "id": "nC4mqYIgLHwg"
      },
      "source": [
        ""
      ],
      "execution_count": null,
      "outputs": []
    },
    {
      "cell_type": "code",
      "metadata": {
        "id": "AOwE5uUXLHxU"
      },
      "source": [
        ""
      ],
      "execution_count": null,
      "outputs": []
    },
    {
      "cell_type": "code",
      "metadata": {
        "id": "X-JURynrLHyM"
      },
      "source": [
        ""
      ],
      "execution_count": null,
      "outputs": []
    },
    {
      "cell_type": "code",
      "metadata": {
        "id": "WW3BtF1gLHy0"
      },
      "source": [
        ""
      ],
      "execution_count": null,
      "outputs": []
    },
    {
      "cell_type": "code",
      "metadata": {
        "id": "l7SsxNZdLHzi"
      },
      "source": [
        ""
      ],
      "execution_count": null,
      "outputs": []
    },
    {
      "cell_type": "code",
      "metadata": {
        "id": "2bFcq-5yLH0L"
      },
      "source": [
        ""
      ],
      "execution_count": null,
      "outputs": []
    },
    {
      "cell_type": "code",
      "metadata": {
        "id": "P1zqlvbiLH1E"
      },
      "source": [
        ""
      ],
      "execution_count": null,
      "outputs": []
    },
    {
      "cell_type": "code",
      "metadata": {
        "id": "Ib3hmDC4LH1o"
      },
      "source": [
        ""
      ],
      "execution_count": null,
      "outputs": []
    },
    {
      "cell_type": "code",
      "metadata": {
        "id": "Hf244MG_LH2N"
      },
      "source": [
        ""
      ],
      "execution_count": null,
      "outputs": []
    },
    {
      "cell_type": "code",
      "metadata": {
        "id": "sVwI_mLALH24"
      },
      "source": [
        ""
      ],
      "execution_count": null,
      "outputs": []
    },
    {
      "cell_type": "code",
      "metadata": {
        "id": "8MWudb2nLH3f"
      },
      "source": [
        ""
      ],
      "execution_count": null,
      "outputs": []
    },
    {
      "cell_type": "code",
      "metadata": {
        "id": "hX6tomc-LH4D"
      },
      "source": [
        ""
      ],
      "execution_count": null,
      "outputs": []
    },
    {
      "cell_type": "code",
      "metadata": {
        "id": "qd3xw7HnLH4n"
      },
      "source": [
        ""
      ],
      "execution_count": null,
      "outputs": []
    },
    {
      "cell_type": "code",
      "metadata": {
        "id": "U5vPNGq9LH5O"
      },
      "source": [
        ""
      ],
      "execution_count": null,
      "outputs": []
    },
    {
      "cell_type": "code",
      "metadata": {
        "id": "aS46RXAwLH53"
      },
      "source": [
        ""
      ],
      "execution_count": null,
      "outputs": []
    },
    {
      "cell_type": "code",
      "metadata": {
        "id": "zUTKQLiKLH6o"
      },
      "source": [
        ""
      ],
      "execution_count": null,
      "outputs": []
    },
    {
      "cell_type": "code",
      "metadata": {
        "id": "DH-bvL1PLH7Q"
      },
      "source": [
        ""
      ],
      "execution_count": null,
      "outputs": []
    },
    {
      "cell_type": "code",
      "metadata": {
        "id": "uu6Nt9lKLH77"
      },
      "source": [
        ""
      ],
      "execution_count": null,
      "outputs": []
    },
    {
      "cell_type": "code",
      "metadata": {
        "id": "2rkAYy1QLH80"
      },
      "source": [
        ""
      ],
      "execution_count": null,
      "outputs": []
    },
    {
      "cell_type": "code",
      "metadata": {
        "id": "af_Nm2P6LH9n"
      },
      "source": [
        ""
      ],
      "execution_count": null,
      "outputs": []
    },
    {
      "cell_type": "code",
      "metadata": {
        "id": "_BCR4s-VLH-a"
      },
      "source": [
        ""
      ],
      "execution_count": null,
      "outputs": []
    },
    {
      "cell_type": "code",
      "metadata": {
        "id": "Awf1PIUpLH_i"
      },
      "source": [
        ""
      ],
      "execution_count": null,
      "outputs": []
    },
    {
      "cell_type": "code",
      "metadata": {
        "id": "6v2hFVztLIAI"
      },
      "source": [
        ""
      ],
      "execution_count": null,
      "outputs": []
    },
    {
      "cell_type": "code",
      "metadata": {
        "id": "vHEvXQc5LIAu"
      },
      "source": [
        ""
      ],
      "execution_count": null,
      "outputs": []
    },
    {
      "cell_type": "code",
      "metadata": {
        "id": "QrujPXvZLIBV"
      },
      "source": [
        ""
      ],
      "execution_count": null,
      "outputs": []
    },
    {
      "cell_type": "code",
      "metadata": {
        "id": "2aaV2NtKLIB9"
      },
      "source": [
        ""
      ],
      "execution_count": null,
      "outputs": []
    },
    {
      "cell_type": "code",
      "metadata": {
        "id": "fC3hDegTLICm"
      },
      "source": [
        ""
      ],
      "execution_count": null,
      "outputs": []
    }
  ]
}