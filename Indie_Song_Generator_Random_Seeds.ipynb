{
  "nbformat": 4,
  "nbformat_minor": 0,
  "metadata": {
    "colab": {
      "name": "Indie Song Generator -Random Seeds.ipynb",
      "provenance": [],
      "collapsed_sections": [],
      "mount_file_id": "1APcGxBUITKxq3So-LoqFVvq1ky8b10Jx",
      "authorship_tag": "ABX9TyNboWAd0ILM9KbMIb2dXmjI",
      "include_colab_link": true
    },
    "kernelspec": {
      "name": "python3",
      "display_name": "Python 3"
    },
    "accelerator": "GPU"
  },
  "cells": [
    {
      "cell_type": "markdown",
      "metadata": {
        "id": "view-in-github",
        "colab_type": "text"
      },
      "source": [
        "<a href=\"https://colab.research.google.com/github/caltunay/eng_lyrics_generator/blob/main/Indie_Song_Generator_Random_Seeds.ipynb\" target=\"_parent\"><img src=\"https://colab.research.google.com/assets/colab-badge.svg\" alt=\"Open In Colab\"/></a>"
      ]
    },
    {
      "cell_type": "code",
      "metadata": {
        "id": "IYHTI4IW8YqQ"
      },
      "source": [
        "from tensorflow.keras.models import load_model"
      ],
      "execution_count": null,
      "outputs": []
    },
    {
      "cell_type": "code",
      "metadata": {
        "id": "c_0pHacQ3tLB"
      },
      "source": [
        "model2 = load_model('/content/drive/MyDrive/Colab Notebooks/Song Lyric Generator/indie_song_gen.h5')"
      ],
      "execution_count": null,
      "outputs": []
    },
    {
      "cell_type": "code",
      "metadata": {
        "id": "SjwRnPd03tN-",
        "colab": {
          "base_uri": "https://localhost:8080/"
        },
        "outputId": "557e5a59-58e5-4411-8ece-7732d8cb1ac6"
      },
      "source": [
        "model2.summary()"
      ],
      "execution_count": null,
      "outputs": [
        {
          "output_type": "stream",
          "text": [
            "Model: \"sequential_2\"\n",
            "_________________________________________________________________\n",
            "Layer (type)                 Output Shape              Param #   \n",
            "=================================================================\n",
            "cu_dnnlstm_6 (CuDNNLSTM)     (None, 30, 512)           1159168   \n",
            "_________________________________________________________________\n",
            "dropout_6 (Dropout)          (None, 30, 512)           0         \n",
            "_________________________________________________________________\n",
            "cu_dnnlstm_7 (CuDNNLSTM)     (None, 30, 512)           2101248   \n",
            "_________________________________________________________________\n",
            "dropout_7 (Dropout)          (None, 30, 512)           0         \n",
            "_________________________________________________________________\n",
            "cu_dnnlstm_8 (CuDNNLSTM)     (None, 512)               2101248   \n",
            "_________________________________________________________________\n",
            "dropout_8 (Dropout)          (None, 512)               0         \n",
            "_________________________________________________________________\n",
            "dense_2 (Dense)              (None, 52)                26676     \n",
            "=================================================================\n",
            "Total params: 5,388,340\n",
            "Trainable params: 5,388,340\n",
            "Non-trainable params: 0\n",
            "_________________________________________________________________\n"
          ],
          "name": "stdout"
        }
      ]
    },
    {
      "cell_type": "code",
      "metadata": {
        "id": "459U5e2h3tS1"
      },
      "source": [
        "def generate_w_seed(sentence,temperature):\r\n",
        "    sentence = sentence[0:max_len]\r\n",
        "    # print(f'seed: {sentence}')\r\n",
        "    print(f'temperature: {temperature}')\r\n",
        "    generated = ''\r\n",
        "    generated += sentence\r\n",
        "    \r\n",
        "    sys.stdout.write(generated)\r\n",
        "\r\n",
        "    for i in range(500):\r\n",
        "        x_pred = np.zeros((1, max_len, len(vocab)))\r\n",
        "        for t, char in enumerate(sentence):\r\n",
        "            x_pred[0, t, char_to_ind[char]] = 1\r\n",
        "\r\n",
        "        preds = model2.predict(x_pred, verbose=0)[0]\r\n",
        "        next_index = sample(preds, temperature)\r\n",
        "        next_char = ind_to_char[next_index]\r\n",
        "\r\n",
        "        generated += next_char\r\n",
        "        sentence = sentence[1:] + next_char\r\n",
        "\r\n",
        "        sys.stdout.write(next_char)\r\n",
        "        sys.stdout.flush()\r\n",
        "    print()\r\n",
        "    return"
      ],
      "execution_count": null,
      "outputs": []
    },
    {
      "cell_type": "code",
      "metadata": {
        "colab": {
          "base_uri": "https://localhost:8080/"
        },
        "id": "QjAD1sfL8sck",
        "outputId": "791837e8-0afb-4a49-ba2a-3fdff747c021"
      },
      "source": [
        "for temp in [.2,.5,.8,1.0]:\r\n",
        "    generate_w_seed('love you more than craft beer '.lower(), temp)\r\n",
        "    print()\r\n",
        "    print('========================================================================\\n')"
      ],
      "execution_count": null,
      "outputs": [
        {
          "output_type": "stream",
          "text": [
            "temperature: 0.2\n",
            "love you more than craft beer the same all for the sound of your shoes\n",
            "there's no time to get out of this static\n",
            "throw it all to the part of you\n",
            "\n",
            "i know it's all about the money\n",
            "but i'm so dreaming\n",
            "you're so beautiful\n",
            "you're beautiful today\n",
            "you're a part of you\n",
            "\n",
            "i want to see you through the wall\n",
            "when you come around.\n",
            "everything is gonna be alright\n",
            "\n",
            "and i want to be the one to feel the same all the storm of the street\n",
            "we are one and i'm still trying to find myself in the sky\n",
            "i see the bloody that we come to the ground\n",
            "i don'\n",
            "\n",
            "========================================================================\n",
            "\n",
            "temperature: 0.5\n",
            "love you more than craft beer closed on the street\n",
            "with the sun blazed by a glow\n",
            "i'm standing in the matter or two show you are a savior\n",
            "and all the times that you gave to me\n",
            "then the world is yours\n",
            "then there's something in the way\n",
            "i see you nothing there are no in my heart\n",
            "\n",
            "but when the ancient stars are different\n",
            "i could be the love for us slowly and when i think of you lots sometimes\n",
            "i love you and i love you like i do\n",
            "and if you want to make it right we can make it right\n",
            "i said it's been too long to let go now hear me o\n",
            "\n",
            "========================================================================\n",
            "\n",
            "temperature: 0.8\n",
            "love you more than craft beer up and she's got my head\n",
            "she was not the feeling i'd never be the morning, and i don't want to be alone\n",
            "no no\n",
            "no no no\n",
            "no\n",
            "i don't need nothing from knother new and new life could do as hard as we get out\n",
            "and i will not see that it's not for you\n",
            "and you can't eat anything very time\n",
            "that i feel is in my head\n",
            "i'm so running from the band newly and the sorrow just remember\n",
            "i feel like this\n",
            "no one shows to see me\n",
            "\n",
            "why you find out so i cannot? \n",
            "hope you take me back\n",
            "it's not one thing it's gonna have\n",
            "\n",
            "========================================================================\n",
            "\n",
            "temperature: 1.0\n",
            "love you more than craft beer when you open every day\n",
            "see because of you\n",
            "for the president talks it slowly and start all the times even talking their\n",
            "one, i feel so crushing my soul\n",
            "her breath gos a road to pray\n",
            "golden till shakows away from me\n",
            "to see happy little hair to give her and then we'll get my time will come rudication\n",
            "on the motorway\n",
            "city outside\n",
            "too much\n",
            "and you must be waiting\n",
            "for you towards you for grace in my soon\n",
            "what was it see\n",
            "will i believe that put away from you now\n",
            "in your cards ca put their own\n",
            "me off t\n",
            "\n",
            "========================================================================\n",
            "\n"
          ],
          "name": "stdout"
        }
      ]
    },
    {
      "cell_type": "code",
      "metadata": {
        "id": "MFSiQOgs3tU4",
        "colab": {
          "base_uri": "https://localhost:8080/"
        },
        "outputId": "1177a707-0232-43f4-f48c-81b935ce6cf5"
      },
      "source": [
        "for temp in [.2, .3, .5]:\r\n",
        "    generate_w_seed('robot jack serenading to toby '.lower(), temp)\r\n",
        "    print('\\n==========================\\n')"
      ],
      "execution_count": null,
      "outputs": [
        {
          "output_type": "stream",
          "text": [
            "temperature: 0.2\n",
            "robot jack serenading to toby on a street\n",
            "when the stars are shining on the shore\n",
            "long door, from the sea of the street\n",
            "when the light is breaking through\n",
            "\n",
            "and i'm still making you so far\n",
            "and i'm gonna do it with you\n",
            "girl\n",
            "i know i would feel so bad\n",
            "i said that i can't see that i can see the words to go where we were so broken and she's got a loaded gun\n",
            "and it's gonna park to me\n",
            "i want to be the one to feel the same all from the mountains start to the bride and the street\n",
            "with the sun in me\n",
            "and i was the first to the fire as \n",
            "\n",
            "==========================\n",
            "\n",
            "temperature: 0.3\n",
            "robot jack serenading to toby the cold and the sun belowing me out\n",
            "\n",
            "i was the first to the rest of you and me\n",
            "and i was a boy to see how the crowd i was only for you \n",
            "they say it was a beautiful feel\n",
            "i'm a place to me\n",
            "i want to be alone all night long\n",
            "i can't lose my eyes and done\n",
            "i said you can't have it all\n",
            "\n",
            "i want to be the one to feel the same song anymore\n",
            "and now your offering is really from the bring in my head\n",
            "and i'm not a secret i can't stand to say that you'll never have the world to me and i was the one to feel th\n",
            "\n",
            "==========================\n",
            "\n",
            "temperature: 0.5\n",
            "robot jack serenading to toby on a weekend\n",
            "i see the day that you can\n",
            "\n",
            "i will talk about the things that you fall\n",
            "and i start the things you do is done\n",
            "i want to read you roct.\n",
            "you can see the world with me\n",
            "i won't lie, it was all me\n",
            "\n",
            "i want to change the world with me\n",
            "but i have changed to get off in the sky\n",
            "i want to be high\n",
            "when you come home\n",
            "it's not worth it all goes say the way you were meant to be here with you\n",
            "\n",
            "the sound is dreaming\n",
            "when i see that\n",
            "i don't know who\n",
            "something i will know\n",
            "now who are you?\n",
            "maybe someday\n",
            "\n",
            "==========================\n",
            "\n"
          ],
          "name": "stdout"
        }
      ]
    },
    {
      "cell_type": "code",
      "metadata": {
        "id": "Ip3smlsx3tZ4"
      },
      "source": [
        ""
      ],
      "execution_count": null,
      "outputs": []
    },
    {
      "cell_type": "code",
      "metadata": {
        "id": "d0j7_lOY3tca"
      },
      "source": [
        ""
      ],
      "execution_count": null,
      "outputs": []
    },
    {
      "cell_type": "code",
      "metadata": {
        "id": "izTHxkhh3tfK"
      },
      "source": [
        ""
      ],
      "execution_count": null,
      "outputs": []
    },
    {
      "cell_type": "code",
      "metadata": {
        "id": "WqECNZYl3thQ"
      },
      "source": [
        ""
      ],
      "execution_count": null,
      "outputs": []
    },
    {
      "cell_type": "code",
      "metadata": {
        "id": "0lqcd12H3tjl"
      },
      "source": [
        ""
      ],
      "execution_count": null,
      "outputs": []
    },
    {
      "cell_type": "code",
      "metadata": {
        "id": "pVFtAp-s3tmB"
      },
      "source": [
        ""
      ],
      "execution_count": null,
      "outputs": []
    },
    {
      "cell_type": "code",
      "metadata": {
        "id": "6CRcoRlq3tsl"
      },
      "source": [
        ""
      ],
      "execution_count": null,
      "outputs": []
    },
    {
      "cell_type": "code",
      "metadata": {
        "id": "4aMxNBmi3t0Z"
      },
      "source": [
        ""
      ],
      "execution_count": null,
      "outputs": []
    },
    {
      "cell_type": "code",
      "metadata": {
        "id": "17rACiBX3t1I"
      },
      "source": [
        ""
      ],
      "execution_count": null,
      "outputs": []
    },
    {
      "cell_type": "code",
      "metadata": {
        "id": "D5LgLAeN3t19"
      },
      "source": [
        ""
      ],
      "execution_count": null,
      "outputs": []
    },
    {
      "cell_type": "code",
      "metadata": {
        "id": "G-sz-8iQ3t20"
      },
      "source": [
        ""
      ],
      "execution_count": null,
      "outputs": []
    },
    {
      "cell_type": "code",
      "metadata": {
        "id": "9D8qHnHv3t3p"
      },
      "source": [
        ""
      ],
      "execution_count": null,
      "outputs": []
    },
    {
      "cell_type": "code",
      "metadata": {
        "id": "I1r1Jy3T3t4h"
      },
      "source": [
        ""
      ],
      "execution_count": null,
      "outputs": []
    },
    {
      "cell_type": "code",
      "metadata": {
        "id": "N35sIkw-3t5e"
      },
      "source": [
        ""
      ],
      "execution_count": null,
      "outputs": []
    },
    {
      "cell_type": "code",
      "metadata": {
        "id": "TXkIU1qM3t6b"
      },
      "source": [
        ""
      ],
      "execution_count": null,
      "outputs": []
    },
    {
      "cell_type": "code",
      "metadata": {
        "id": "kIiqc6lQ3t7Z"
      },
      "source": [
        ""
      ],
      "execution_count": null,
      "outputs": []
    },
    {
      "cell_type": "code",
      "metadata": {
        "id": "PcmlrTig3t8S"
      },
      "source": [
        ""
      ],
      "execution_count": null,
      "outputs": []
    },
    {
      "cell_type": "code",
      "metadata": {
        "id": "V1uSy1q83t9J"
      },
      "source": [
        ""
      ],
      "execution_count": null,
      "outputs": []
    },
    {
      "cell_type": "code",
      "metadata": {
        "id": "wrlLO7kd3t-G"
      },
      "source": [
        ""
      ],
      "execution_count": null,
      "outputs": []
    },
    {
      "cell_type": "code",
      "metadata": {
        "id": "Dp_D6Cdb3t-8"
      },
      "source": [
        ""
      ],
      "execution_count": null,
      "outputs": []
    },
    {
      "cell_type": "code",
      "metadata": {
        "id": "UJWNlDkT3t_3"
      },
      "source": [
        ""
      ],
      "execution_count": null,
      "outputs": []
    },
    {
      "cell_type": "code",
      "metadata": {
        "id": "6JH18yg23uAv"
      },
      "source": [
        ""
      ],
      "execution_count": null,
      "outputs": []
    },
    {
      "cell_type": "code",
      "metadata": {
        "id": "Vy5lVARAIOVp"
      },
      "source": [
        ""
      ],
      "execution_count": null,
      "outputs": []
    },
    {
      "cell_type": "code",
      "metadata": {
        "id": "6_2gLlaqLHtj"
      },
      "source": [
        ""
      ],
      "execution_count": null,
      "outputs": []
    },
    {
      "cell_type": "code",
      "metadata": {
        "id": "vEhdpBoZLHuM"
      },
      "source": [
        ""
      ],
      "execution_count": null,
      "outputs": []
    },
    {
      "cell_type": "code",
      "metadata": {
        "id": "j3A6GjRYLHu-"
      },
      "source": [
        ""
      ],
      "execution_count": null,
      "outputs": []
    },
    {
      "cell_type": "code",
      "metadata": {
        "id": "YGjkShPFLHvz"
      },
      "source": [
        ""
      ],
      "execution_count": null,
      "outputs": []
    },
    {
      "cell_type": "code",
      "metadata": {
        "id": "nC4mqYIgLHwg"
      },
      "source": [
        ""
      ],
      "execution_count": null,
      "outputs": []
    },
    {
      "cell_type": "code",
      "metadata": {
        "id": "AOwE5uUXLHxU"
      },
      "source": [
        ""
      ],
      "execution_count": null,
      "outputs": []
    },
    {
      "cell_type": "code",
      "metadata": {
        "id": "X-JURynrLHyM"
      },
      "source": [
        ""
      ],
      "execution_count": null,
      "outputs": []
    },
    {
      "cell_type": "code",
      "metadata": {
        "id": "WW3BtF1gLHy0"
      },
      "source": [
        ""
      ],
      "execution_count": null,
      "outputs": []
    },
    {
      "cell_type": "code",
      "metadata": {
        "id": "l7SsxNZdLHzi"
      },
      "source": [
        ""
      ],
      "execution_count": null,
      "outputs": []
    },
    {
      "cell_type": "code",
      "metadata": {
        "id": "2bFcq-5yLH0L"
      },
      "source": [
        ""
      ],
      "execution_count": null,
      "outputs": []
    },
    {
      "cell_type": "code",
      "metadata": {
        "id": "P1zqlvbiLH1E"
      },
      "source": [
        ""
      ],
      "execution_count": null,
      "outputs": []
    },
    {
      "cell_type": "code",
      "metadata": {
        "id": "Ib3hmDC4LH1o"
      },
      "source": [
        ""
      ],
      "execution_count": null,
      "outputs": []
    },
    {
      "cell_type": "code",
      "metadata": {
        "id": "Hf244MG_LH2N"
      },
      "source": [
        ""
      ],
      "execution_count": null,
      "outputs": []
    },
    {
      "cell_type": "code",
      "metadata": {
        "id": "sVwI_mLALH24"
      },
      "source": [
        ""
      ],
      "execution_count": null,
      "outputs": []
    },
    {
      "cell_type": "code",
      "metadata": {
        "id": "8MWudb2nLH3f"
      },
      "source": [
        ""
      ],
      "execution_count": null,
      "outputs": []
    },
    {
      "cell_type": "code",
      "metadata": {
        "id": "hX6tomc-LH4D"
      },
      "source": [
        ""
      ],
      "execution_count": null,
      "outputs": []
    },
    {
      "cell_type": "code",
      "metadata": {
        "id": "qd3xw7HnLH4n"
      },
      "source": [
        ""
      ],
      "execution_count": null,
      "outputs": []
    },
    {
      "cell_type": "code",
      "metadata": {
        "id": "U5vPNGq9LH5O"
      },
      "source": [
        ""
      ],
      "execution_count": null,
      "outputs": []
    },
    {
      "cell_type": "code",
      "metadata": {
        "id": "aS46RXAwLH53"
      },
      "source": [
        ""
      ],
      "execution_count": null,
      "outputs": []
    },
    {
      "cell_type": "code",
      "metadata": {
        "id": "zUTKQLiKLH6o"
      },
      "source": [
        ""
      ],
      "execution_count": null,
      "outputs": []
    },
    {
      "cell_type": "code",
      "metadata": {
        "id": "DH-bvL1PLH7Q"
      },
      "source": [
        ""
      ],
      "execution_count": null,
      "outputs": []
    },
    {
      "cell_type": "code",
      "metadata": {
        "id": "uu6Nt9lKLH77"
      },
      "source": [
        ""
      ],
      "execution_count": null,
      "outputs": []
    },
    {
      "cell_type": "code",
      "metadata": {
        "id": "2rkAYy1QLH80"
      },
      "source": [
        ""
      ],
      "execution_count": null,
      "outputs": []
    },
    {
      "cell_type": "code",
      "metadata": {
        "id": "af_Nm2P6LH9n"
      },
      "source": [
        ""
      ],
      "execution_count": null,
      "outputs": []
    },
    {
      "cell_type": "code",
      "metadata": {
        "id": "_BCR4s-VLH-a"
      },
      "source": [
        ""
      ],
      "execution_count": null,
      "outputs": []
    },
    {
      "cell_type": "code",
      "metadata": {
        "id": "Awf1PIUpLH_i"
      },
      "source": [
        ""
      ],
      "execution_count": null,
      "outputs": []
    },
    {
      "cell_type": "code",
      "metadata": {
        "id": "6v2hFVztLIAI"
      },
      "source": [
        ""
      ],
      "execution_count": null,
      "outputs": []
    },
    {
      "cell_type": "code",
      "metadata": {
        "id": "vHEvXQc5LIAu"
      },
      "source": [
        ""
      ],
      "execution_count": null,
      "outputs": []
    },
    {
      "cell_type": "code",
      "metadata": {
        "id": "QrujPXvZLIBV"
      },
      "source": [
        ""
      ],
      "execution_count": null,
      "outputs": []
    },
    {
      "cell_type": "code",
      "metadata": {
        "id": "2aaV2NtKLIB9"
      },
      "source": [
        ""
      ],
      "execution_count": null,
      "outputs": []
    },
    {
      "cell_type": "code",
      "metadata": {
        "id": "fC3hDegTLICm"
      },
      "source": [
        ""
      ],
      "execution_count": null,
      "outputs": []
    }
  ]
}